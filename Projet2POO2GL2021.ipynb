{
 "cells": [
  {
   "cell_type": "code",
   "execution_count": 4,
   "id": "9ba5592d",
   "metadata": {},
   "outputs": [],
   "source": [
    "import pandas as pd\n",
    "import networkx as nx \n",
    "import matplotlib.pyplot as plt\n",
    "import csv\n",
    "import folium\n",
    "\n",
    "%matplotlib inline"
   ]
  },
  {
   "cell_type": "code",
   "execution_count": 5,
   "id": "4617c1ac",
   "metadata": {},
   "outputs": [
    {
     "data": {
      "text/html": [
       "<div>\n",
       "<style scoped>\n",
       "    .dataframe tbody tr th:only-of-type {\n",
       "        vertical-align: middle;\n",
       "    }\n",
       "\n",
       "    .dataframe tbody tr th {\n",
       "        vertical-align: top;\n",
       "    }\n",
       "\n",
       "    .dataframe thead th {\n",
       "        text-align: right;\n",
       "    }\n",
       "</style>\n",
       "<table border=\"1\" class=\"dataframe\">\n",
       "  <thead>\n",
       "    <tr style=\"text-align: right;\">\n",
       "      <th></th>\n",
       "      <th>id</th>\n",
       "      <th>latitude</th>\n",
       "      <th>longitude</th>\n",
       "      <th>population</th>\n",
       "    </tr>\n",
       "  </thead>\n",
       "  <tbody>\n",
       "    <tr>\n",
       "      <th>0</th>\n",
       "      <td>Amsterdam</td>\n",
       "      <td>52.379189</td>\n",
       "      <td>4.899431</td>\n",
       "      <td>821752</td>\n",
       "    </tr>\n",
       "    <tr>\n",
       "      <th>1</th>\n",
       "      <td>Utrecht</td>\n",
       "      <td>52.092876</td>\n",
       "      <td>5.104480</td>\n",
       "      <td>334176</td>\n",
       "    </tr>\n",
       "    <tr>\n",
       "      <th>2</th>\n",
       "      <td>Den Haag</td>\n",
       "      <td>52.078663</td>\n",
       "      <td>4.288788</td>\n",
       "      <td>514861</td>\n",
       "    </tr>\n",
       "    <tr>\n",
       "      <th>3</th>\n",
       "      <td>Immingham</td>\n",
       "      <td>53.612390</td>\n",
       "      <td>-0.222190</td>\n",
       "      <td>9642</td>\n",
       "    </tr>\n",
       "    <tr>\n",
       "      <th>4</th>\n",
       "      <td>Doncaster</td>\n",
       "      <td>53.522850</td>\n",
       "      <td>-1.131160</td>\n",
       "      <td>302400</td>\n",
       "    </tr>\n",
       "    <tr>\n",
       "      <th>5</th>\n",
       "      <td>Hoek van Holland</td>\n",
       "      <td>51.977500</td>\n",
       "      <td>4.133330</td>\n",
       "      <td>9382</td>\n",
       "    </tr>\n",
       "    <tr>\n",
       "      <th>6</th>\n",
       "      <td>Felixstowe</td>\n",
       "      <td>51.963750</td>\n",
       "      <td>1.351100</td>\n",
       "      <td>23689</td>\n",
       "    </tr>\n",
       "    <tr>\n",
       "      <th>7</th>\n",
       "      <td>Ipswich</td>\n",
       "      <td>52.059170</td>\n",
       "      <td>1.155450</td>\n",
       "      <td>133384</td>\n",
       "    </tr>\n",
       "    <tr>\n",
       "      <th>8</th>\n",
       "      <td>Colchester</td>\n",
       "      <td>51.889210</td>\n",
       "      <td>0.904210</td>\n",
       "      <td>104390</td>\n",
       "    </tr>\n",
       "    <tr>\n",
       "      <th>9</th>\n",
       "      <td>London</td>\n",
       "      <td>51.509865</td>\n",
       "      <td>-0.118092</td>\n",
       "      <td>8787892</td>\n",
       "    </tr>\n",
       "    <tr>\n",
       "      <th>10</th>\n",
       "      <td>Rotterdam</td>\n",
       "      <td>51.922500</td>\n",
       "      <td>4.479170</td>\n",
       "      <td>623652</td>\n",
       "    </tr>\n",
       "    <tr>\n",
       "      <th>11</th>\n",
       "      <td>Gouda</td>\n",
       "      <td>52.016670</td>\n",
       "      <td>4.708330</td>\n",
       "      <td>70939</td>\n",
       "    </tr>\n",
       "  </tbody>\n",
       "</table>\n",
       "</div>"
      ],
      "text/plain": [
       "                  id   latitude  longitude  population\n",
       "0          Amsterdam  52.379189   4.899431      821752\n",
       "1            Utrecht  52.092876   5.104480      334176\n",
       "2           Den Haag  52.078663   4.288788      514861\n",
       "3          Immingham  53.612390  -0.222190        9642\n",
       "4          Doncaster  53.522850  -1.131160      302400\n",
       "5   Hoek van Holland  51.977500   4.133330        9382\n",
       "6         Felixstowe  51.963750   1.351100       23689\n",
       "7            Ipswich  52.059170   1.155450      133384\n",
       "8         Colchester  51.889210   0.904210      104390\n",
       "9             London  51.509865  -0.118092     8787892\n",
       "10         Rotterdam  51.922500   4.479170      623652\n",
       "11             Gouda  52.016670   4.708330       70939"
      ]
     },
     "execution_count": 5,
     "metadata": {},
     "output_type": "execute_result"
    }
   ],
   "source": [
    "#Part 1(Cheikh Kayré Mbengue)\n",
    "df = pd.read_csv ('transport-nodes.csv')\n",
    "df.head(12)"
   ]
  },
  {
   "cell_type": "code",
   "execution_count": 6,
   "id": "275a18b7",
   "metadata": {},
   "outputs": [
    {
     "data": {
      "text/html": [
       "<div>\n",
       "<style scoped>\n",
       "    .dataframe tbody tr th:only-of-type {\n",
       "        vertical-align: middle;\n",
       "    }\n",
       "\n",
       "    .dataframe tbody tr th {\n",
       "        vertical-align: top;\n",
       "    }\n",
       "\n",
       "    .dataframe thead th {\n",
       "        text-align: right;\n",
       "    }\n",
       "</style>\n",
       "<table border=\"1\" class=\"dataframe\">\n",
       "  <thead>\n",
       "    <tr style=\"text-align: right;\">\n",
       "      <th></th>\n",
       "      <th>src</th>\n",
       "      <th>dst</th>\n",
       "      <th>relationship</th>\n",
       "      <th>cost</th>\n",
       "    </tr>\n",
       "  </thead>\n",
       "  <tbody>\n",
       "    <tr>\n",
       "      <th>0</th>\n",
       "      <td>Amsterdam</td>\n",
       "      <td>Utrecht</td>\n",
       "      <td>EROAD</td>\n",
       "      <td>46</td>\n",
       "    </tr>\n",
       "    <tr>\n",
       "      <th>1</th>\n",
       "      <td>Amsterdam</td>\n",
       "      <td>Den Haag</td>\n",
       "      <td>EROAD</td>\n",
       "      <td>59</td>\n",
       "    </tr>\n",
       "    <tr>\n",
       "      <th>2</th>\n",
       "      <td>Den Haag</td>\n",
       "      <td>Rotterdam</td>\n",
       "      <td>EROAD</td>\n",
       "      <td>26</td>\n",
       "    </tr>\n",
       "    <tr>\n",
       "      <th>3</th>\n",
       "      <td>Amsterdam</td>\n",
       "      <td>Immingham</td>\n",
       "      <td>EROAD</td>\n",
       "      <td>369</td>\n",
       "    </tr>\n",
       "    <tr>\n",
       "      <th>4</th>\n",
       "      <td>Immingham</td>\n",
       "      <td>Doncaster</td>\n",
       "      <td>EROAD</td>\n",
       "      <td>74</td>\n",
       "    </tr>\n",
       "    <tr>\n",
       "      <th>5</th>\n",
       "      <td>Doncaster</td>\n",
       "      <td>London</td>\n",
       "      <td>EROAD</td>\n",
       "      <td>277</td>\n",
       "    </tr>\n",
       "    <tr>\n",
       "      <th>6</th>\n",
       "      <td>Hoek van Holland</td>\n",
       "      <td>Den Haag</td>\n",
       "      <td>EROAD</td>\n",
       "      <td>27</td>\n",
       "    </tr>\n",
       "    <tr>\n",
       "      <th>7</th>\n",
       "      <td>Felixstowe</td>\n",
       "      <td>Hoek van Holland</td>\n",
       "      <td>EROAD</td>\n",
       "      <td>207</td>\n",
       "    </tr>\n",
       "    <tr>\n",
       "      <th>8</th>\n",
       "      <td>Ipswich</td>\n",
       "      <td>Felixstowe</td>\n",
       "      <td>EROAD</td>\n",
       "      <td>22</td>\n",
       "    </tr>\n",
       "    <tr>\n",
       "      <th>9</th>\n",
       "      <td>Colchester</td>\n",
       "      <td>Ipswich</td>\n",
       "      <td>EROAD</td>\n",
       "      <td>32</td>\n",
       "    </tr>\n",
       "    <tr>\n",
       "      <th>10</th>\n",
       "      <td>London</td>\n",
       "      <td>Colchester</td>\n",
       "      <td>EROAD</td>\n",
       "      <td>106</td>\n",
       "    </tr>\n",
       "    <tr>\n",
       "      <th>11</th>\n",
       "      <td>Gouda</td>\n",
       "      <td>Rotterdam</td>\n",
       "      <td>EROAD</td>\n",
       "      <td>25</td>\n",
       "    </tr>\n",
       "    <tr>\n",
       "      <th>12</th>\n",
       "      <td>Gouda</td>\n",
       "      <td>Utrecht</td>\n",
       "      <td>EROAD</td>\n",
       "      <td>35</td>\n",
       "    </tr>\n",
       "    <tr>\n",
       "      <th>13</th>\n",
       "      <td>Den Haag</td>\n",
       "      <td>Gouda</td>\n",
       "      <td>EROAD</td>\n",
       "      <td>32</td>\n",
       "    </tr>\n",
       "    <tr>\n",
       "      <th>14</th>\n",
       "      <td>Hoek van Holland</td>\n",
       "      <td>Rotterdam</td>\n",
       "      <td>EROAD</td>\n",
       "      <td>33</td>\n",
       "    </tr>\n",
       "  </tbody>\n",
       "</table>\n",
       "</div>"
      ],
      "text/plain": [
       "                 src               dst relationship  cost\n",
       "0          Amsterdam           Utrecht        EROAD    46\n",
       "1          Amsterdam          Den Haag        EROAD    59\n",
       "2           Den Haag         Rotterdam        EROAD    26\n",
       "3          Amsterdam         Immingham        EROAD   369\n",
       "4          Immingham         Doncaster        EROAD    74\n",
       "5          Doncaster            London        EROAD   277\n",
       "6   Hoek van Holland          Den Haag        EROAD    27\n",
       "7         Felixstowe  Hoek van Holland        EROAD   207\n",
       "8            Ipswich        Felixstowe        EROAD    22\n",
       "9         Colchester           Ipswich        EROAD    32\n",
       "10            London        Colchester        EROAD   106\n",
       "11             Gouda         Rotterdam        EROAD    25\n",
       "12             Gouda           Utrecht        EROAD    35\n",
       "13          Den Haag             Gouda        EROAD    32\n",
       "14  Hoek van Holland         Rotterdam        EROAD    33"
      ]
     },
     "execution_count": 6,
     "metadata": {},
     "output_type": "execute_result"
    }
   ],
   "source": [
    "dh = pd.read_csv('transport-relationships.csv')\n",
    "dh.head(15)"
   ]
  },
  {
   "cell_type": "code",
   "execution_count": 7,
   "id": "5db52c45",
   "metadata": {},
   "outputs": [
    {
     "name": "stdout",
     "output_type": "stream",
     "text": [
      "['Amsterdam', 'Utrecht', 'Den Haag', 'Immingham', 'Doncaster', 'Hoek van Holland', 'Felixstowe', 'Ipswich', 'Colchester', 'London', 'Rotterdam', 'Gouda']\n"
     ]
    }
   ],
   "source": [
    "#creation of table to recover every towns\n",
    "ville = []\n",
    "i=0\n",
    "while i<12:\n",
    "    ville.append((df['id'][i]))\n",
    "    i=i+1\n",
    "print(ville)"
   ]
  },
  {
   "cell_type": "code",
   "execution_count": 8,
   "id": "e8a3a0f0",
   "metadata": {},
   "outputs": [
    {
     "name": "stdout",
     "output_type": "stream",
     "text": [
      "[821, 334, 514, 9, 302, 9, 23, 133, 104, 8787, 623, 70]\n"
     ]
    }
   ],
   "source": [
    "#creation of a table to recover the population of towns\n",
    "population = []\n",
    "i=0\n",
    "while i<12:\n",
    "    population.append((df['population'][i])//1000)\n",
    "    i=i+1\n",
    "print(population)"
   ]
  },
  {
   "cell_type": "code",
   "execution_count": 9,
   "id": "ff13f640",
   "metadata": {},
   "outputs": [],
   "source": [
    "#List to keep nodes and their destination\n",
    "listNoeuds = []\n",
    "i=0\n",
    "while i<15:\n",
    "    listNoeuds.append((str(dh['src'][i]),str(dh['dst'][i])))\n",
    "    i=i+1"
   ]
  },
  {
   "cell_type": "code",
   "execution_count": 10,
   "id": "12fd730a",
   "metadata": {},
   "outputs": [
    {
     "data": {
      "image/png": "[encoded data removed]",
      "text/plain": [
       "<Figure size 432x288 with 1 Axes>"
      ]
     },
     "metadata": {},
     "output_type": "display_data"
    }
   ],
   "source": [
    "dessiner = nx.Graph()\n",
    "i = 0\n",
    "while i<12:\n",
    "    dessiner.add_node(df['id'][i])\n",
    "    i=i+1\n",
    "dessiner.add_edges_from(listNoeuds)\n",
    "nx.draw_shell(dessiner, with_labels=True,node_size=population, node_color='yellow',edge_color='red')"
   ]
  },
  {
   "cell_type": "code",
   "execution_count": 11,
   "id": "92916a2d",
   "metadata": {},
   "outputs": [
    {
     "data": {
      "text/plain": [
       "{'Amsterdam': {},\n",
       " 'Utrecht': {},\n",
       " 'Den Haag': {},\n",
       " 'Immingham': {},\n",
       " 'Doncaster': {},\n",
       " 'Hoek van Holland': {},\n",
       " 'Felixstowe': {},\n",
       " 'Ipswich': {},\n",
       " 'Colchester': {},\n",
       " 'London': {},\n",
       " 'Rotterdam': {},\n",
       " 'Gouda': {}}"
      ]
     },
     "execution_count": 11,
     "metadata": {},
     "output_type": "execute_result"
    }
   ],
   "source": [
    "dict(dessiner.nodes.data())"
   ]
  },
  {
   "cell_type": "code",
   "execution_count": 12,
   "id": "042f05e7",
   "metadata": {},
   "outputs": [],
   "source": [
    "AjoutDict = {}\n",
    "#function to add attribute in the graph nodes\n",
    "def AjouterAttribut(myGraph,dfnode,NameAtt,Index):\n",
    "    i=0\n",
    "    while i<12:\n",
    "        AjoutDict[(dfnode[Index][i])] = ({NameAtt : dfnode[NameAtt][i] })\n",
    "        i=i+1\n",
    "        nx.set_node_attributes(myGraph, AjoutDict)"
   ]
  },
  {
   "cell_type": "code",
   "execution_count": 17,
   "id": "b39016a5",
   "metadata": {},
   "outputs": [],
   "source": [
    "AjouterAttribut(dessiner,df,'population','id')\n",
    "AjouterAttribut(dessiner,df,'latitude','id')\n",
    "AjouterAttribut(dessiner,df,'longitude','id')"
   ]
  },
  {
   "cell_type": "code",
   "execution_count": 18,
   "id": "f41bb233",
   "metadata": {},
   "outputs": [
    {
     "data": {
      "text/plain": [
       "{'Amsterdam': {'population': 821752,\n",
       "  'latitude': 52.379189,\n",
       "  'longitude': 4.899431},\n",
       " 'Utrecht': {'population': 334176,\n",
       "  'latitude': 52.092876,\n",
       "  'longitude': 5.10448},\n",
       " 'Den Haag': {'population': 514861,\n",
       "  'latitude': 52.078663,\n",
       "  'longitude': 4.288788},\n",
       " 'Immingham': {'population': 9642,\n",
       "  'latitude': 53.61239,\n",
       "  'longitude': -0.22219},\n",
       " 'Doncaster': {'population': 302400,\n",
       "  'latitude': 53.52285,\n",
       "  'longitude': -1.13116},\n",
       " 'Hoek van Holland': {'population': 9382,\n",
       "  'latitude': 51.9775,\n",
       "  'longitude': 4.13333},\n",
       " 'Felixstowe': {'population': 23689,\n",
       "  'latitude': 51.96375,\n",
       "  'longitude': 1.3511},\n",
       " 'Ipswich': {'population': 133384, 'latitude': 52.05917, 'longitude': 1.15545},\n",
       " 'Colchester': {'population': 104390,\n",
       "  'latitude': 51.88921,\n",
       "  'longitude': 0.90421},\n",
       " 'London': {'population': 8787892,\n",
       "  'latitude': 51.509865,\n",
       "  'longitude': -0.118092},\n",
       " 'Rotterdam': {'population': 623652,\n",
       "  'latitude': 51.9225,\n",
       "  'longitude': 4.47917},\n",
       " 'Gouda': {'population': 70939, 'latitude': 52.01667, 'longitude': 4.70833}}"
      ]
     },
     "execution_count": 18,
     "metadata": {},
     "output_type": "execute_result"
    }
   ],
   "source": [
    "dict(dessiner.nodes.data())"
   ]
  },
  {
   "cell_type": "code",
   "execution_count": 20,
   "id": "317c1db0",
   "metadata": {},
   "outputs": [],
   "source": [
    "for i in dessiner.nodes:\n",
    "    basemap = folium.Map(location = [dessiner.nodes[i]['latitude'], dessiner.nodes[i]['longitude']],\n",
    "        tiles='Stamen Toner', width='%100', height='%100', zoom_start=5)"
   ]
  },
  {
   "cell_type": "code",
   "execution_count": 21,
   "id": "741c9193",
   "metadata": {},
   "outputs": [
    {
     "data": {
      "text/html": [
       "<div style=\"width:100%;\"><div style=\"position:relative;width:100%;height:0;padding-bottom:60%;\"><span style=\"color:#565656\">Make this Notebook Trusted to load map: File -> Trust Notebook</span><iframe src=\"about:blank\" style=\"position:absolute;width:100%;height:100%;left:0;top:0;border:none !important;\" data-html=%3C%21DOCTYPE%20html%3E%0A%3Chead%3E%20%20%20%20%0A%20%20%20%20%3Cmeta%20http-equiv%3D%22content-type%22%20content%3D%22text/html%3B%20charset%3DUTF-8%22%20/%3E%0A%20%20%20%20%0A%20%20%20%20%20%20%20%20%3Cscript%3E%0A%20%20%20%20%20%20%20%20%20%20%20%20L_NO_TOUCH%20%3D%20false%3B%0A%20%20%20%20%20%20%20%20%20%20%20%20L_DISABLE_3D%20%3D%20false%3B%0A%20%20%20%20%20%20%20%20%3C/script%3E%0A%20%20%20%20%0A%20%20%20%20%3Cstyle%3Ehtml%2C%20body%20%7Bwidth%3A%20100%25%3Bheight%3A%20100%25%3Bmargin%3A%200%3Bpadding%3A%200%3B%7D%3C/style%3E%0A%20%20%20%20%3Cstyle%3E%23map%20%7Bposition%3Aabsolute%3Btop%3A0%3Bbottom%3A0%3Bright%3A0%3Bleft%3A0%3B%7D%3C/style%3E%0A%20%20%20%20%3Cscript%20src%3D%22https%3A//cdn.jsdelivr.net/npm/leaflet%401.6.0/dist/leaflet.js%22%3E%3C/script%3E%0A%20%20%20%20%3Cscript%20src%3D%22https%3A//code.jquery.com/jquery-1.12.4.min.js%22%3E%3C/script%3E%0A%20%20%20%20%3Cscript%20src%3D%22https%3A//maxcdn.bootstrapcdn.com/bootstrap/3.2.0/js/bootstrap.min.js%22%3E%3C/script%3E%0A%20%20%20%20%3Cscript%20src%3D%22https%3A//cdnjs.cloudflare.com/ajax/libs/Leaflet.awesome-markers/2.0.2/leaflet.awesome-markers.js%22%3E%3C/script%3E%0A%20%20%20%20%3Clink%20rel%3D%22stylesheet%22%20href%3D%22https%3A//cdn.jsdelivr.net/npm/leaflet%401.6.0/dist/leaflet.css%22/%3E%0A%20%20%20%20%3Clink%20rel%3D%22stylesheet%22%20href%3D%22https%3A//maxcdn.bootstrapcdn.com/bootstrap/3.2.0/css/bootstrap.min.css%22/%3E%0A%20%20%20%20%3Clink%20rel%3D%22stylesheet%22%20href%3D%22https%3A//maxcdn.bootstrapcdn.com/bootstrap/3.2.0/css/bootstrap-theme.min.css%22/%3E%0A%20%20%20%20%3Clink%20rel%3D%22stylesheet%22%20href%3D%22https%3A//maxcdn.bootstrapcdn.com/font-awesome/4.6.3/css/font-awesome.min.css%22/%3E%0A%20%20%20%20%3Clink%20rel%3D%22stylesheet%22%20href%3D%22https%3A//cdnjs.cloudflare.com/ajax/libs/Leaflet.awesome-markers/2.0.2/leaflet.awesome-markers.css%22/%3E%0A%20%20%20%20%3Clink%20rel%3D%22stylesheet%22%20href%3D%22https%3A//cdn.jsdelivr.net/gh/python-visualization/folium/folium/templates/leaflet.awesome.rotate.min.css%22/%3E%0A%20%20%20%20%0A%20%20%20%20%20%20%20%20%20%20%20%20%3Cmeta%20name%3D%22viewport%22%20content%3D%22width%3Ddevice-width%2C%0A%20%20%20%20%20%20%20%20%20%20%20%20%20%20%20%20initial-scale%3D1.0%2C%20maximum-scale%3D1.0%2C%20user-scalable%3Dno%22%20/%3E%0A%20%20%20%20%20%20%20%20%20%20%20%20%3Cstyle%3E%0A%20%20%20%20%20%20%20%20%20%20%20%20%20%20%20%20%23map_ab88a7705eee4395a1d50ac9cd3704a3%20%7B%0A%20%20%20%20%20%20%20%20%20%20%20%20%20%20%20%20%20%20%20%20position%3A%20relative%3B%0A%20%20%20%20%20%20%20%20%20%20%20%20%20%20%20%20%20%20%20%20width%3A%20100.0%25%3B%0A%20%20%20%20%20%20%20%20%20%20%20%20%20%20%20%20%20%20%20%20height%3A%20100.0%25%3B%0A%20%20%20%20%20%20%20%20%20%20%20%20%20%20%20%20%20%20%20%20left%3A%200.0%25%3B%0A%20%20%20%20%20%20%20%20%20%20%20%20%20%20%20%20%20%20%20%20top%3A%200.0%25%3B%0A%20%20%20%20%20%20%20%20%20%20%20%20%20%20%20%20%7D%0A%20%20%20%20%20%20%20%20%20%20%20%20%3C/style%3E%0A%20%20%20%20%20%20%20%20%0A%3C/head%3E%0A%3Cbody%3E%20%20%20%20%0A%20%20%20%20%0A%20%20%20%20%20%20%20%20%20%20%20%20%3Cdiv%20class%3D%22folium-map%22%20id%3D%22map_ab88a7705eee4395a1d50ac9cd3704a3%22%20%3E%3C/div%3E%0A%20%20%20%20%20%20%20%20%0A%3C/body%3E%0A%3Cscript%3E%20%20%20%20%0A%20%20%20%20%0A%20%20%20%20%20%20%20%20%20%20%20%20var%20map_ab88a7705eee4395a1d50ac9cd3704a3%20%3D%20L.map%28%0A%20%20%20%20%20%20%20%20%20%20%20%20%20%20%20%20%22map_ab88a7705eee4395a1d50ac9cd3704a3%22%2C%0A%20%20%20%20%20%20%20%20%20%20%20%20%20%20%20%20%7B%0A%20%20%20%20%20%20%20%20%20%20%20%20%20%20%20%20%20%20%20%20center%3A%20%5B52.01667%2C%204.70833%5D%2C%0A%20%20%20%20%20%20%20%20%20%20%20%20%20%20%20%20%20%20%20%20crs%3A%20L.CRS.EPSG3857%2C%0A%20%20%20%20%20%20%20%20%20%20%20%20%20%20%20%20%20%20%20%20zoom%3A%205%2C%0A%20%20%20%20%20%20%20%20%20%20%20%20%20%20%20%20%20%20%20%20zoomControl%3A%20true%2C%0A%20%20%20%20%20%20%20%20%20%20%20%20%20%20%20%20%20%20%20%20preferCanvas%3A%20false%2C%0A%20%20%20%20%20%20%20%20%20%20%20%20%20%20%20%20%7D%0A%20%20%20%20%20%20%20%20%20%20%20%20%29%3B%0A%0A%20%20%20%20%20%20%20%20%20%20%20%20%0A%0A%20%20%20%20%20%20%20%20%0A%20%20%20%20%0A%20%20%20%20%20%20%20%20%20%20%20%20var%20tile_layer_4c39ce979a504536bb3d3d2320c7d458%20%3D%20L.tileLayer%28%0A%20%20%20%20%20%20%20%20%20%20%20%20%20%20%20%20%22https%3A//stamen-tiles-%7Bs%7D.a.ssl.fastly.net/toner/%7Bz%7D/%7Bx%7D/%7By%7D.png%22%2C%0A%20%20%20%20%20%20%20%20%20%20%20%20%20%20%20%20%7B%22attribution%22%3A%20%22Map%20tiles%20by%20%5Cu003ca%20href%3D%5C%22http%3A//stamen.com%5C%22%5Cu003eStamen%20Design%5Cu003c/a%5Cu003e%2C%20under%20%5Cu003ca%20href%3D%5C%22http%3A//creativecommons.org/licenses/by/3.0%5C%22%5Cu003eCC%20BY%203.0%5Cu003c/a%5Cu003e.%20Data%20by%20%5Cu0026copy%3B%20%5Cu003ca%20href%3D%5C%22http%3A//openstreetmap.org%5C%22%5Cu003eOpenStreetMap%5Cu003c/a%5Cu003e%2C%20under%20%5Cu003ca%20href%3D%5C%22http%3A//www.openstreetmap.org/copyright%5C%22%5Cu003eODbL%5Cu003c/a%5Cu003e.%22%2C%20%22detectRetina%22%3A%20false%2C%20%22maxNativeZoom%22%3A%2018%2C%20%22maxZoom%22%3A%2018%2C%20%22minZoom%22%3A%200%2C%20%22noWrap%22%3A%20false%2C%20%22opacity%22%3A%201%2C%20%22subdomains%22%3A%20%22abc%22%2C%20%22tms%22%3A%20false%7D%0A%20%20%20%20%20%20%20%20%20%20%20%20%29.addTo%28map_ab88a7705eee4395a1d50ac9cd3704a3%29%3B%0A%20%20%20%20%20%20%20%20%0A%3C/script%3E onload=\"this.contentDocument.open();this.contentDocument.write(    decodeURIComponent(this.getAttribute('data-html')));this.contentDocument.close();\" allowfullscreen webkitallowfullscreen mozallowfullscreen></iframe></div></div>"
      ],
      "text/plain": [
       "<folium.folium.Map at 0x7fef101ca280>"
      ]
     },
     "execution_count": 21,
     "metadata": {},
     "output_type": "execute_result"
    }
   ],
   "source": [
    "basemap"
   ]
  },
  {
   "cell_type": "code",
   "execution_count": 22,
   "id": "11f2918d",
   "metadata": {},
   "outputs": [],
   "source": [
    "#Adding markers to all nodes in the folium network using folium.Marker\n",
    "def marker(desssiner):\n",
    "     for i in dessiner.nodes:\n",
    "        folium.Marker([dessiner.nodes[i]['latitude'],dessiner.nodes[i]['longitude']],zoom_start=5).add_to(basemap)\n",
    "     return basemap"
   ]
  },
  {
   "cell_type": "code",
   "execution_count": 23,
   "id": "c780fb09",
   "metadata": {},
   "outputs": [
    {
     "data": {
      "text/html": [
       "<div style=\"width:100%;\"><div style=\"position:relative;width:100%;height:0;padding-bottom:60%;\"><span style=\"color:#565656\">Make this Notebook Trusted to load map: File -> Trust Notebook</span><iframe src=\"about:blank\" style=\"position:absolute;width:100%;height:100%;left:0;top:0;border:none !important;\" data-html=%3C%21DOCTYPE%20html%3E%0A%3Chead%3E%20%20%20%20%0A%20%20%20%20%3Cmeta%20http-equiv%3D%22content-type%22%20content%3D%22text/html%3B%20charset%3DUTF-8%22%20/%3E%0A%20%20%20%20%0A%20%20%20%20%20%20%20%20%3Cscript%3E%0A%20%20%20%20%20%20%20%20%20%20%20%20L_NO_TOUCH%20%3D%20false%3B%0A%20%20%20%20%20%20%20%20%20%20%20%20L_DISABLE_3D%20%3D%20false%3B%0A%20%20%20%20%20%20%20%20%3C/script%3E%0A%20%20%20%20%0A%20%20%20%20%3Cstyle%3Ehtml%2C%20body%20%7Bwidth%3A%20100%25%3Bheight%3A%20100%25%3Bmargin%3A%200%3Bpadding%3A%200%3B%7D%3C/style%3E%0A%20%20%20%20%3Cstyle%3E%23map%20%7Bposition%3Aabsolute%3Btop%3A0%3Bbottom%3A0%3Bright%3A0%3Bleft%3A0%3B%7D%3C/style%3E%0A%20%20%20%20%3Cscript%20src%3D%22https%3A//cdn.jsdelivr.net/npm/leaflet%401.6.0/dist/leaflet.js%22%3E%3C/script%3E%0A%20%20%20%20%3Cscript%20src%3D%22https%3A//code.jquery.com/jquery-1.12.4.min.js%22%3E%3C/script%3E%0A%20%20%20%20%3Cscript%20src%3D%22https%3A//maxcdn.bootstrapcdn.com/bootstrap/3.2.0/js/bootstrap.min.js%22%3E%3C/script%3E%0A%20%20%20%20%3Cscript%20src%3D%22https%3A//cdnjs.cloudflare.com/ajax/libs/Leaflet.awesome-markers/2.0.2/leaflet.awesome-markers.js%22%3E%3C/script%3E%0A%20%20%20%20%3Clink%20rel%3D%22stylesheet%22%20href%3D%22https%3A//cdn.jsdelivr.net/npm/leaflet%401.6.0/dist/leaflet.css%22/%3E%0A%20%20%20%20%3Clink%20rel%3D%22stylesheet%22%20href%3D%22https%3A//maxcdn.bootstrapcdn.com/bootstrap/3.2.0/css/bootstrap.min.css%22/%3E%0A%20%20%20%20%3Clink%20rel%3D%22stylesheet%22%20href%3D%22https%3A//maxcdn.bootstrapcdn.com/bootstrap/3.2.0/css/bootstrap-theme.min.css%22/%3E%0A%20%20%20%20%3Clink%20rel%3D%22stylesheet%22%20href%3D%22https%3A//maxcdn.bootstrapcdn.com/font-awesome/4.6.3/css/font-awesome.min.css%22/%3E%0A%20%20%20%20%3Clink%20rel%3D%22stylesheet%22%20href%3D%22https%3A//cdnjs.cloudflare.com/ajax/libs/Leaflet.awesome-markers/2.0.2/leaflet.awesome-markers.css%22/%3E%0A%20%20%20%20%3Clink%20rel%3D%22stylesheet%22%20href%3D%22https%3A//cdn.jsdelivr.net/gh/python-visualization/folium/folium/templates/leaflet.awesome.rotate.min.css%22/%3E%0A%20%20%20%20%0A%20%20%20%20%20%20%20%20%20%20%20%20%3Cmeta%20name%3D%22viewport%22%20content%3D%22width%3Ddevice-width%2C%0A%20%20%20%20%20%20%20%20%20%20%20%20%20%20%20%20initial-scale%3D1.0%2C%20maximum-scale%3D1.0%2C%20user-scalable%3Dno%22%20/%3E%0A%20%20%20%20%20%20%20%20%20%20%20%20%3Cstyle%3E%0A%20%20%20%20%20%20%20%20%20%20%20%20%20%20%20%20%23map_ab88a7705eee4395a1d50ac9cd3704a3%20%7B%0A%20%20%20%20%20%20%20%20%20%20%20%20%20%20%20%20%20%20%20%20position%3A%20relative%3B%0A%20%20%20%20%20%20%20%20%20%20%20%20%20%20%20%20%20%20%20%20width%3A%20100.0%25%3B%0A%20%20%20%20%20%20%20%20%20%20%20%20%20%20%20%20%20%20%20%20height%3A%20100.0%25%3B%0A%20%20%20%20%20%20%20%20%20%20%20%20%20%20%20%20%20%20%20%20left%3A%200.0%25%3B%0A%20%20%20%20%20%20%20%20%20%20%20%20%20%20%20%20%20%20%20%20top%3A%200.0%25%3B%0A%20%20%20%20%20%20%20%20%20%20%20%20%20%20%20%20%7D%0A%20%20%20%20%20%20%20%20%20%20%20%20%3C/style%3E%0A%20%20%20%20%20%20%20%20%0A%3C/head%3E%0A%3Cbody%3E%20%20%20%20%0A%20%20%20%20%0A%20%20%20%20%20%20%20%20%20%20%20%20%3Cdiv%20class%3D%22folium-map%22%20id%3D%22map_ab88a7705eee4395a1d50ac9cd3704a3%22%20%3E%3C/div%3E%0A%20%20%20%20%20%20%20%20%0A%3C/body%3E%0A%3Cscript%3E%20%20%20%20%0A%20%20%20%20%0A%20%20%20%20%20%20%20%20%20%20%20%20var%20map_ab88a7705eee4395a1d50ac9cd3704a3%20%3D%20L.map%28%0A%20%20%20%20%20%20%20%20%20%20%20%20%20%20%20%20%22map_ab88a7705eee4395a1d50ac9cd3704a3%22%2C%0A%20%20%20%20%20%20%20%20%20%20%20%20%20%20%20%20%7B%0A%20%20%20%20%20%20%20%20%20%20%20%20%20%20%20%20%20%20%20%20center%3A%20%5B52.01667%2C%204.70833%5D%2C%0A%20%20%20%20%20%20%20%20%20%20%20%20%20%20%20%20%20%20%20%20crs%3A%20L.CRS.EPSG3857%2C%0A%20%20%20%20%20%20%20%20%20%20%20%20%20%20%20%20%20%20%20%20zoom%3A%205%2C%0A%20%20%20%20%20%20%20%20%20%20%20%20%20%20%20%20%20%20%20%20zoomControl%3A%20true%2C%0A%20%20%20%20%20%20%20%20%20%20%20%20%20%20%20%20%20%20%20%20preferCanvas%3A%20false%2C%0A%20%20%20%20%20%20%20%20%20%20%20%20%20%20%20%20%7D%0A%20%20%20%20%20%20%20%20%20%20%20%20%29%3B%0A%0A%20%20%20%20%20%20%20%20%20%20%20%20%0A%0A%20%20%20%20%20%20%20%20%0A%20%20%20%20%0A%20%20%20%20%20%20%20%20%20%20%20%20var%20tile_layer_4c39ce979a504536bb3d3d2320c7d458%20%3D%20L.tileLayer%28%0A%20%20%20%20%20%20%20%20%20%20%20%20%20%20%20%20%22https%3A//stamen-tiles-%7Bs%7D.a.ssl.fastly.net/toner/%7Bz%7D/%7Bx%7D/%7By%7D.png%22%2C%0A%20%20%20%20%20%20%20%20%20%20%20%20%20%20%20%20%7B%22attribution%22%3A%20%22Map%20tiles%20by%20%5Cu003ca%20href%3D%5C%22http%3A//stamen.com%5C%22%5Cu003eStamen%20Design%5Cu003c/a%5Cu003e%2C%20under%20%5Cu003ca%20href%3D%5C%22http%3A//creativecommons.org/licenses/by/3.0%5C%22%5Cu003eCC%20BY%203.0%5Cu003c/a%5Cu003e.%20Data%20by%20%5Cu0026copy%3B%20%5Cu003ca%20href%3D%5C%22http%3A//openstreetmap.org%5C%22%5Cu003eOpenStreetMap%5Cu003c/a%5Cu003e%2C%20under%20%5Cu003ca%20href%3D%5C%22http%3A//www.openstreetmap.org/copyright%5C%22%5Cu003eODbL%5Cu003c/a%5Cu003e.%22%2C%20%22detectRetina%22%3A%20false%2C%20%22maxNativeZoom%22%3A%2018%2C%20%22maxZoom%22%3A%2018%2C%20%22minZoom%22%3A%200%2C%20%22noWrap%22%3A%20false%2C%20%22opacity%22%3A%201%2C%20%22subdomains%22%3A%20%22abc%22%2C%20%22tms%22%3A%20false%7D%0A%20%20%20%20%20%20%20%20%20%20%20%20%29.addTo%28map_ab88a7705eee4395a1d50ac9cd3704a3%29%3B%0A%20%20%20%20%20%20%20%20%0A%20%20%20%20%0A%20%20%20%20%20%20%20%20%20%20%20%20var%20marker_f3368f0c743d4a37b4c3a8782faeaac4%20%3D%20L.marker%28%0A%20%20%20%20%20%20%20%20%20%20%20%20%20%20%20%20%5B52.379189%2C%204.899431%5D%2C%0A%20%20%20%20%20%20%20%20%20%20%20%20%20%20%20%20%7B%22zoomStart%22%3A%205%7D%0A%20%20%20%20%20%20%20%20%20%20%20%20%29.addTo%28map_ab88a7705eee4395a1d50ac9cd3704a3%29%3B%0A%20%20%20%20%20%20%20%20%0A%20%20%20%20%0A%20%20%20%20%20%20%20%20%20%20%20%20var%20marker_761dfe8ac87c43e7a892f3b2901d013a%20%3D%20L.marker%28%0A%20%20%20%20%20%20%20%20%20%20%20%20%20%20%20%20%5B52.092876%2C%205.10448%5D%2C%0A%20%20%20%20%20%20%20%20%20%20%20%20%20%20%20%20%7B%22zoomStart%22%3A%205%7D%0A%20%20%20%20%20%20%20%20%20%20%20%20%29.addTo%28map_ab88a7705eee4395a1d50ac9cd3704a3%29%3B%0A%20%20%20%20%20%20%20%20%0A%20%20%20%20%0A%20%20%20%20%20%20%20%20%20%20%20%20var%20marker_216aa42030c94341a0f2cc019d1fc840%20%3D%20L.marker%28%0A%20%20%20%20%20%20%20%20%20%20%20%20%20%20%20%20%5B52.078663%2C%204.288788%5D%2C%0A%20%20%20%20%20%20%20%20%20%20%20%20%20%20%20%20%7B%22zoomStart%22%3A%205%7D%0A%20%20%20%20%20%20%20%20%20%20%20%20%29.addTo%28map_ab88a7705eee4395a1d50ac9cd3704a3%29%3B%0A%20%20%20%20%20%20%20%20%0A%20%20%20%20%0A%20%20%20%20%20%20%20%20%20%20%20%20var%20marker_0e35adafbb4f4ec99f3b068cfcf7c75d%20%3D%20L.marker%28%0A%20%20%20%20%20%20%20%20%20%20%20%20%20%20%20%20%5B53.61239%2C%20-0.22219%5D%2C%0A%20%20%20%20%20%20%20%20%20%20%20%20%20%20%20%20%7B%22zoomStart%22%3A%205%7D%0A%20%20%20%20%20%20%20%20%20%20%20%20%29.addTo%28map_ab88a7705eee4395a1d50ac9cd3704a3%29%3B%0A%20%20%20%20%20%20%20%20%0A%20%20%20%20%0A%20%20%20%20%20%20%20%20%20%20%20%20var%20marker_70219f36e5a844f58ae90b56aeca3be8%20%3D%20L.marker%28%0A%20%20%20%20%20%20%20%20%20%20%20%20%20%20%20%20%5B53.52285%2C%20-1.13116%5D%2C%0A%20%20%20%20%20%20%20%20%20%20%20%20%20%20%20%20%7B%22zoomStart%22%3A%205%7D%0A%20%20%20%20%20%20%20%20%20%20%20%20%29.addTo%28map_ab88a7705eee4395a1d50ac9cd3704a3%29%3B%0A%20%20%20%20%20%20%20%20%0A%20%20%20%20%0A%20%20%20%20%20%20%20%20%20%20%20%20var%20marker_e0741cef2e2648c8912d28b7317cc810%20%3D%20L.marker%28%0A%20%20%20%20%20%20%20%20%20%20%20%20%20%20%20%20%5B51.9775%2C%204.13333%5D%2C%0A%20%20%20%20%20%20%20%20%20%20%20%20%20%20%20%20%7B%22zoomStart%22%3A%205%7D%0A%20%20%20%20%20%20%20%20%20%20%20%20%29.addTo%28map_ab88a7705eee4395a1d50ac9cd3704a3%29%3B%0A%20%20%20%20%20%20%20%20%0A%20%20%20%20%0A%20%20%20%20%20%20%20%20%20%20%20%20var%20marker_9654d1a97c2a45b5944656cc58950337%20%3D%20L.marker%28%0A%20%20%20%20%20%20%20%20%20%20%20%20%20%20%20%20%5B51.96375%2C%201.3511%5D%2C%0A%20%20%20%20%20%20%20%20%20%20%20%20%20%20%20%20%7B%22zoomStart%22%3A%205%7D%0A%20%20%20%20%20%20%20%20%20%20%20%20%29.addTo%28map_ab88a7705eee4395a1d50ac9cd3704a3%29%3B%0A%20%20%20%20%20%20%20%20%0A%20%20%20%20%0A%20%20%20%20%20%20%20%20%20%20%20%20var%20marker_75b4b17fb11544f08bc422104f344458%20%3D%20L.marker%28%0A%20%20%20%20%20%20%20%20%20%20%20%20%20%20%20%20%5B52.05917%2C%201.15545%5D%2C%0A%20%20%20%20%20%20%20%20%20%20%20%20%20%20%20%20%7B%22zoomStart%22%3A%205%7D%0A%20%20%20%20%20%20%20%20%20%20%20%20%29.addTo%28map_ab88a7705eee4395a1d50ac9cd3704a3%29%3B%0A%20%20%20%20%20%20%20%20%0A%20%20%20%20%0A%20%20%20%20%20%20%20%20%20%20%20%20var%20marker_56cf79da23904efbbcc0c4ac3006a6a4%20%3D%20L.marker%28%0A%20%20%20%20%20%20%20%20%20%20%20%20%20%20%20%20%5B51.88921%2C%200.90421%5D%2C%0A%20%20%20%20%20%20%20%20%20%20%20%20%20%20%20%20%7B%22zoomStart%22%3A%205%7D%0A%20%20%20%20%20%20%20%20%20%20%20%20%29.addTo%28map_ab88a7705eee4395a1d50ac9cd3704a3%29%3B%0A%20%20%20%20%20%20%20%20%0A%20%20%20%20%0A%20%20%20%20%20%20%20%20%20%20%20%20var%20marker_5d086ef4b2ef4bc2a03263fb6700084d%20%3D%20L.marker%28%0A%20%20%20%20%20%20%20%20%20%20%20%20%20%20%20%20%5B51.509865%2C%20-0.118092%5D%2C%0A%20%20%20%20%20%20%20%20%20%20%20%20%20%20%20%20%7B%22zoomStart%22%3A%205%7D%0A%20%20%20%20%20%20%20%20%20%20%20%20%29.addTo%28map_ab88a7705eee4395a1d50ac9cd3704a3%29%3B%0A%20%20%20%20%20%20%20%20%0A%20%20%20%20%0A%20%20%20%20%20%20%20%20%20%20%20%20var%20marker_1a8ef053e7ce481095adac34bcb0eafd%20%3D%20L.marker%28%0A%20%20%20%20%20%20%20%20%20%20%20%20%20%20%20%20%5B51.9225%2C%204.47917%5D%2C%0A%20%20%20%20%20%20%20%20%20%20%20%20%20%20%20%20%7B%22zoomStart%22%3A%205%7D%0A%20%20%20%20%20%20%20%20%20%20%20%20%29.addTo%28map_ab88a7705eee4395a1d50ac9cd3704a3%29%3B%0A%20%20%20%20%20%20%20%20%0A%20%20%20%20%0A%20%20%20%20%20%20%20%20%20%20%20%20var%20marker_6049f0c4dd36436fa8f7147469ac2474%20%3D%20L.marker%28%0A%20%20%20%20%20%20%20%20%20%20%20%20%20%20%20%20%5B52.01667%2C%204.70833%5D%2C%0A%20%20%20%20%20%20%20%20%20%20%20%20%20%20%20%20%7B%22zoomStart%22%3A%205%7D%0A%20%20%20%20%20%20%20%20%20%20%20%20%29.addTo%28map_ab88a7705eee4395a1d50ac9cd3704a3%29%3B%0A%20%20%20%20%20%20%20%20%0A%3C/script%3E onload=\"this.contentDocument.open();this.contentDocument.write(    decodeURIComponent(this.getAttribute('data-html')));this.contentDocument.close();\" allowfullscreen webkitallowfullscreen mozallowfullscreen></iframe></div></div>"
      ],
      "text/plain": [
       "<folium.folium.Map at 0x7fef101ca280>"
      ]
     },
     "execution_count": 23,
     "metadata": {},
     "output_type": "execute_result"
    }
   ],
   "source": [
    "marker(dessiner)"
   ]
  },
  {
   "cell_type": "code",
   "execution_count": 25,
   "id": "d1088cfc",
   "metadata": {},
   "outputs": [],
   "source": [
    "#function to build image Point\n",
    "def construirePointsImage(dessiner):\n",
    "    points=[]\n",
    "    for i in dessiner.nodes:\n",
    "        for neighbor in dessiner.neighbors(i):\n",
    "            points.append([[dessiner.nodes[i]['latitude'], dessiner.nodes[i]['longitude']], [dessiner.nodes[neighbor]['latitude'], dessiner.nodes[neighbor]['longitude']]])\n",
    "    return points"
   ]
  },
  {
   "cell_type": "code",
   "execution_count": 26,
   "id": "f7496d4e",
   "metadata": {},
   "outputs": [
    {
     "name": "stdout",
     "output_type": "stream",
     "text": [
      "[[[52.379189, 4.899431], [52.092876, 5.10448]], [[52.379189, 4.899431], [52.078663, 4.288788]], [[52.379189, 4.899431], [53.61239, -0.22219]], [[52.092876, 5.10448], [52.379189, 4.899431]], [[52.092876, 5.10448], [52.01667, 4.70833]], [[52.078663, 4.288788], [52.379189, 4.899431]], [[52.078663, 4.288788], [51.9225, 4.47917]], [[52.078663, 4.288788], [51.9775, 4.13333]], [[52.078663, 4.288788], [52.01667, 4.70833]], [[53.61239, -0.22219], [52.379189, 4.899431]], [[53.61239, -0.22219], [53.52285, -1.13116]], [[53.52285, -1.13116], [53.61239, -0.22219]], [[53.52285, -1.13116], [51.509865, -0.118092]], [[51.9775, 4.13333], [52.078663, 4.288788]], [[51.9775, 4.13333], [51.96375, 1.3511]], [[51.9775, 4.13333], [51.9225, 4.47917]], [[51.96375, 1.3511], [51.9775, 4.13333]], [[51.96375, 1.3511], [52.05917, 1.15545]], [[52.05917, 1.15545], [51.96375, 1.3511]], [[52.05917, 1.15545], [51.88921, 0.90421]], [[51.88921, 0.90421], [52.05917, 1.15545]], [[51.88921, 0.90421], [51.509865, -0.118092]], [[51.509865, -0.118092], [53.52285, -1.13116]], [[51.509865, -0.118092], [51.88921, 0.90421]], [[51.9225, 4.47917], [52.078663, 4.288788]], [[51.9225, 4.47917], [52.01667, 4.70833]], [[51.9225, 4.47917], [51.9775, 4.13333]], [[52.01667, 4.70833], [51.9225, 4.47917]], [[52.01667, 4.70833], [52.092876, 5.10448]], [[52.01667, 4.70833], [52.078663, 4.288788]]]\n"
     ]
    }
   ],
   "source": [
    "coordonneesvoisins = construirePointsImage(dessiner)\n",
    "print(coordonneesvoisins)"
   ]
  },
  {
   "cell_type": "code",
   "execution_count": 30,
   "id": "e0120f35",
   "metadata": {},
   "outputs": [],
   "source": [
    "#function to create and display the base map\n",
    "def visualiserFolium(dessiner, points, locationpardefaut = [52.3791890, 4.899431], tiles='Stamen Toner', explored = None ):\n",
    "    basemapp = folium.vector_layers.PolyLine(points, color='yellow', weight=3).add_to(basemap)\n",
    "    return basemapp"
   ]
  },
  {
   "cell_type": "code",
   "execution_count": 33,
   "id": "c7caa03c",
   "metadata": {},
   "outputs": [
    {
     "data": {
      "text/plain": [
       "<folium.vector_layers.PolyLine at 0x7fef101eb790>"
      ]
     },
     "execution_count": 33,
     "metadata": {},
     "output_type": "execute_result"
    }
   ],
   "source": [
    "visualiserFolium(dessiner, coordonneesvoisins)"
   ]
  },
  {
   "cell_type": "code",
   "execution_count": 34,
   "id": "42c86e79",
   "metadata": {},
   "outputs": [
    {
     "data": {
      "text/html": [
       "<div style=\"width:100%;\"><div style=\"position:relative;width:100%;height:0;padding-bottom:60%;\"><span style=\"color:#565656\">Make this Notebook Trusted to load map: File -> Trust Notebook</span><iframe src=\"about:blank\" style=\"position:absolute;width:100%;height:100%;left:0;top:0;border:none !important;\" data-html=%3C%21DOCTYPE%20html%3E%0A%3Chead%3E%20%20%20%20%0A%20%20%20%20%3Cmeta%20http-equiv%3D%22content-type%22%20content%3D%22text/html%3B%20charset%3DUTF-8%22%20/%3E%0A%20%20%20%20%0A%20%20%20%20%20%20%20%20%3Cscript%3E%0A%20%20%20%20%20%20%20%20%20%20%20%20L_NO_TOUCH%20%3D%20false%3B%0A%20%20%20%20%20%20%20%20%20%20%20%20L_DISABLE_3D%20%3D%20false%3B%0A%20%20%20%20%20%20%20%20%3C/script%3E%0A%20%20%20%20%0A%20%20%20%20%3Cstyle%3Ehtml%2C%20body%20%7Bwidth%3A%20100%25%3Bheight%3A%20100%25%3Bmargin%3A%200%3Bpadding%3A%200%3B%7D%3C/style%3E%0A%20%20%20%20%3Cstyle%3E%23map%20%7Bposition%3Aabsolute%3Btop%3A0%3Bbottom%3A0%3Bright%3A0%3Bleft%3A0%3B%7D%3C/style%3E%0A%20%20%20%20%3Cscript%20src%3D%22https%3A//cdn.jsdelivr.net/npm/leaflet%401.6.0/dist/leaflet.js%22%3E%3C/script%3E%0A%20%20%20%20%3Cscript%20src%3D%22https%3A//code.jquery.com/jquery-1.12.4.min.js%22%3E%3C/script%3E%0A%20%20%20%20%3Cscript%20src%3D%22https%3A//maxcdn.bootstrapcdn.com/bootstrap/3.2.0/js/bootstrap.min.js%22%3E%3C/script%3E%0A%20%20%20%20%3Cscript%20src%3D%22https%3A//cdnjs.cloudflare.com/ajax/libs/Leaflet.awesome-markers/2.0.2/leaflet.awesome-markers.js%22%3E%3C/script%3E%0A%20%20%20%20%3Clink%20rel%3D%22stylesheet%22%20href%3D%22https%3A//cdn.jsdelivr.net/npm/leaflet%401.6.0/dist/leaflet.css%22/%3E%0A%20%20%20%20%3Clink%20rel%3D%22stylesheet%22%20href%3D%22https%3A//maxcdn.bootstrapcdn.com/bootstrap/3.2.0/css/bootstrap.min.css%22/%3E%0A%20%20%20%20%3Clink%20rel%3D%22stylesheet%22%20href%3D%22https%3A//maxcdn.bootstrapcdn.com/bootstrap/3.2.0/css/bootstrap-theme.min.css%22/%3E%0A%20%20%20%20%3Clink%20rel%3D%22stylesheet%22%20href%3D%22https%3A//maxcdn.bootstrapcdn.com/font-awesome/4.6.3/css/font-awesome.min.css%22/%3E%0A%20%20%20%20%3Clink%20rel%3D%22stylesheet%22%20href%3D%22https%3A//cdnjs.cloudflare.com/ajax/libs/Leaflet.awesome-markers/2.0.2/leaflet.awesome-markers.css%22/%3E%0A%20%20%20%20%3Clink%20rel%3D%22stylesheet%22%20href%3D%22https%3A//cdn.jsdelivr.net/gh/python-visualization/folium/folium/templates/leaflet.awesome.rotate.min.css%22/%3E%0A%20%20%20%20%0A%20%20%20%20%20%20%20%20%20%20%20%20%3Cmeta%20name%3D%22viewport%22%20content%3D%22width%3Ddevice-width%2C%0A%20%20%20%20%20%20%20%20%20%20%20%20%20%20%20%20initial-scale%3D1.0%2C%20maximum-scale%3D1.0%2C%20user-scalable%3Dno%22%20/%3E%0A%20%20%20%20%20%20%20%20%20%20%20%20%3Cstyle%3E%0A%20%20%20%20%20%20%20%20%20%20%20%20%20%20%20%20%23map_ab88a7705eee4395a1d50ac9cd3704a3%20%7B%0A%20%20%20%20%20%20%20%20%20%20%20%20%20%20%20%20%20%20%20%20position%3A%20relative%3B%0A%20%20%20%20%20%20%20%20%20%20%20%20%20%20%20%20%20%20%20%20width%3A%20100.0%25%3B%0A%20%20%20%20%20%20%20%20%20%20%20%20%20%20%20%20%20%20%20%20height%3A%20100.0%25%3B%0A%20%20%20%20%20%20%20%20%20%20%20%20%20%20%20%20%20%20%20%20left%3A%200.0%25%3B%0A%20%20%20%20%20%20%20%20%20%20%20%20%20%20%20%20%20%20%20%20top%3A%200.0%25%3B%0A%20%20%20%20%20%20%20%20%20%20%20%20%20%20%20%20%7D%0A%20%20%20%20%20%20%20%20%20%20%20%20%3C/style%3E%0A%20%20%20%20%20%20%20%20%0A%3C/head%3E%0A%3Cbody%3E%20%20%20%20%0A%20%20%20%20%0A%20%20%20%20%20%20%20%20%20%20%20%20%3Cdiv%20class%3D%22folium-map%22%20id%3D%22map_ab88a7705eee4395a1d50ac9cd3704a3%22%20%3E%3C/div%3E%0A%20%20%20%20%20%20%20%20%0A%3C/body%3E%0A%3Cscript%3E%20%20%20%20%0A%20%20%20%20%0A%20%20%20%20%20%20%20%20%20%20%20%20var%20map_ab88a7705eee4395a1d50ac9cd3704a3%20%3D%20L.map%28%0A%20%20%20%20%20%20%20%20%20%20%20%20%20%20%20%20%22map_ab88a7705eee4395a1d50ac9cd3704a3%22%2C%0A%20%20%20%20%20%20%20%20%20%20%20%20%20%20%20%20%7B%0A%20%20%20%20%20%20%20%20%20%20%20%20%20%20%20%20%20%20%20%20center%3A%20%5B52.01667%2C%204.70833%5D%2C%0A%20%20%20%20%20%20%20%20%20%20%20%20%20%20%20%20%20%20%20%20crs%3A%20L.CRS.EPSG3857%2C%0A%20%20%20%20%20%20%20%20%20%20%20%20%20%20%20%20%20%20%20%20zoom%3A%205%2C%0A%20%20%20%20%20%20%20%20%20%20%20%20%20%20%20%20%20%20%20%20zoomControl%3A%20true%2C%0A%20%20%20%20%20%20%20%20%20%20%20%20%20%20%20%20%20%20%20%20preferCanvas%3A%20false%2C%0A%20%20%20%20%20%20%20%20%20%20%20%20%20%20%20%20%7D%0A%20%20%20%20%20%20%20%20%20%20%20%20%29%3B%0A%0A%20%20%20%20%20%20%20%20%20%20%20%20%0A%0A%20%20%20%20%20%20%20%20%0A%20%20%20%20%0A%20%20%20%20%20%20%20%20%20%20%20%20var%20tile_layer_4c39ce979a504536bb3d3d2320c7d458%20%3D%20L.tileLayer%28%0A%20%20%20%20%20%20%20%20%20%20%20%20%20%20%20%20%22https%3A//stamen-tiles-%7Bs%7D.a.ssl.fastly.net/toner/%7Bz%7D/%7Bx%7D/%7By%7D.png%22%2C%0A%20%20%20%20%20%20%20%20%20%20%20%20%20%20%20%20%7B%22attribution%22%3A%20%22Map%20tiles%20by%20%5Cu003ca%20href%3D%5C%22http%3A//stamen.com%5C%22%5Cu003eStamen%20Design%5Cu003c/a%5Cu003e%2C%20under%20%5Cu003ca%20href%3D%5C%22http%3A//creativecommons.org/licenses/by/3.0%5C%22%5Cu003eCC%20BY%203.0%5Cu003c/a%5Cu003e.%20Data%20by%20%5Cu0026copy%3B%20%5Cu003ca%20href%3D%5C%22http%3A//openstreetmap.org%5C%22%5Cu003eOpenStreetMap%5Cu003c/a%5Cu003e%2C%20under%20%5Cu003ca%20href%3D%5C%22http%3A//www.openstreetmap.org/copyright%5C%22%5Cu003eODbL%5Cu003c/a%5Cu003e.%22%2C%20%22detectRetina%22%3A%20false%2C%20%22maxNativeZoom%22%3A%2018%2C%20%22maxZoom%22%3A%2018%2C%20%22minZoom%22%3A%200%2C%20%22noWrap%22%3A%20false%2C%20%22opacity%22%3A%201%2C%20%22subdomains%22%3A%20%22abc%22%2C%20%22tms%22%3A%20false%7D%0A%20%20%20%20%20%20%20%20%20%20%20%20%29.addTo%28map_ab88a7705eee4395a1d50ac9cd3704a3%29%3B%0A%20%20%20%20%20%20%20%20%0A%20%20%20%20%0A%20%20%20%20%20%20%20%20%20%20%20%20var%20marker_f3368f0c743d4a37b4c3a8782faeaac4%20%3D%20L.marker%28%0A%20%20%20%20%20%20%20%20%20%20%20%20%20%20%20%20%5B52.379189%2C%204.899431%5D%2C%0A%20%20%20%20%20%20%20%20%20%20%20%20%20%20%20%20%7B%22zoomStart%22%3A%205%7D%0A%20%20%20%20%20%20%20%20%20%20%20%20%29.addTo%28map_ab88a7705eee4395a1d50ac9cd3704a3%29%3B%0A%20%20%20%20%20%20%20%20%0A%20%20%20%20%0A%20%20%20%20%20%20%20%20%20%20%20%20var%20marker_761dfe8ac87c43e7a892f3b2901d013a%20%3D%20L.marker%28%0A%20%20%20%20%20%20%20%20%20%20%20%20%20%20%20%20%5B52.092876%2C%205.10448%5D%2C%0A%20%20%20%20%20%20%20%20%20%20%20%20%20%20%20%20%7B%22zoomStart%22%3A%205%7D%0A%20%20%20%20%20%20%20%20%20%20%20%20%29.addTo%28map_ab88a7705eee4395a1d50ac9cd3704a3%29%3B%0A%20%20%20%20%20%20%20%20%0A%20%20%20%20%0A%20%20%20%20%20%20%20%20%20%20%20%20var%20marker_216aa42030c94341a0f2cc019d1fc840%20%3D%20L.marker%28%0A%20%20%20%20%20%20%20%20%20%20%20%20%20%20%20%20%5B52.078663%2C%204.288788%5D%2C%0A%20%20%20%20%20%20%20%20%20%20%20%20%20%20%20%20%7B%22zoomStart%22%3A%205%7D%0A%20%20%20%20%20%20%20%20%20%20%20%20%29.addTo%28map_ab88a7705eee4395a1d50ac9cd3704a3%29%3B%0A%20%20%20%20%20%20%20%20%0A%20%20%20%20%0A%20%20%20%20%20%20%20%20%20%20%20%20var%20marker_0e35adafbb4f4ec99f3b068cfcf7c75d%20%3D%20L.marker%28%0A%20%20%20%20%20%20%20%20%20%20%20%20%20%20%20%20%5B53.61239%2C%20-0.22219%5D%2C%0A%20%20%20%20%20%20%20%20%20%20%20%20%20%20%20%20%7B%22zoomStart%22%3A%205%7D%0A%20%20%20%20%20%20%20%20%20%20%20%20%29.addTo%28map_ab88a7705eee4395a1d50ac9cd3704a3%29%3B%0A%20%20%20%20%20%20%20%20%0A%20%20%20%20%0A%20%20%20%20%20%20%20%20%20%20%20%20var%20marker_70219f36e5a844f58ae90b56aeca3be8%20%3D%20L.marker%28%0A%20%20%20%20%20%20%20%20%20%20%20%20%20%20%20%20%5B53.52285%2C%20-1.13116%5D%2C%0A%20%20%20%20%20%20%20%20%20%20%20%20%20%20%20%20%7B%22zoomStart%22%3A%205%7D%0A%20%20%20%20%20%20%20%20%20%20%20%20%29.addTo%28map_ab88a7705eee4395a1d50ac9cd3704a3%29%3B%0A%20%20%20%20%20%20%20%20%0A%20%20%20%20%0A%20%20%20%20%20%20%20%20%20%20%20%20var%20marker_e0741cef2e2648c8912d28b7317cc810%20%3D%20L.marker%28%0A%20%20%20%20%20%20%20%20%20%20%20%20%20%20%20%20%5B51.9775%2C%204.13333%5D%2C%0A%20%20%20%20%20%20%20%20%20%20%20%20%20%20%20%20%7B%22zoomStart%22%3A%205%7D%0A%20%20%20%20%20%20%20%20%20%20%20%20%29.addTo%28map_ab88a7705eee4395a1d50ac9cd3704a3%29%3B%0A%20%20%20%20%20%20%20%20%0A%20%20%20%20%0A%20%20%20%20%20%20%20%20%20%20%20%20var%20marker_9654d1a97c2a45b5944656cc58950337%20%3D%20L.marker%28%0A%20%20%20%20%20%20%20%20%20%20%20%20%20%20%20%20%5B51.96375%2C%201.3511%5D%2C%0A%20%20%20%20%20%20%20%20%20%20%20%20%20%20%20%20%7B%22zoomStart%22%3A%205%7D%0A%20%20%20%20%20%20%20%20%20%20%20%20%29.addTo%28map_ab88a7705eee4395a1d50ac9cd3704a3%29%3B%0A%20%20%20%20%20%20%20%20%0A%20%20%20%20%0A%20%20%20%20%20%20%20%20%20%20%20%20var%20marker_75b4b17fb11544f08bc422104f344458%20%3D%20L.marker%28%0A%20%20%20%20%20%20%20%20%20%20%20%20%20%20%20%20%5B52.05917%2C%201.15545%5D%2C%0A%20%20%20%20%20%20%20%20%20%20%20%20%20%20%20%20%7B%22zoomStart%22%3A%205%7D%0A%20%20%20%20%20%20%20%20%20%20%20%20%29.addTo%28map_ab88a7705eee4395a1d50ac9cd3704a3%29%3B%0A%20%20%20%20%20%20%20%20%0A%20%20%20%20%0A%20%20%20%20%20%20%20%20%20%20%20%20var%20marker_56cf79da23904efbbcc0c4ac3006a6a4%20%3D%20L.marker%28%0A%20%20%20%20%20%20%20%20%20%20%20%20%20%20%20%20%5B51.88921%2C%200.90421%5D%2C%0A%20%20%20%20%20%20%20%20%20%20%20%20%20%20%20%20%7B%22zoomStart%22%3A%205%7D%0A%20%20%20%20%20%20%20%20%20%20%20%20%29.addTo%28map_ab88a7705eee4395a1d50ac9cd3704a3%29%3B%0A%20%20%20%20%20%20%20%20%0A%20%20%20%20%0A%20%20%20%20%20%20%20%20%20%20%20%20var%20marker_5d086ef4b2ef4bc2a03263fb6700084d%20%3D%20L.marker%28%0A%20%20%20%20%20%20%20%20%20%20%20%20%20%20%20%20%5B51.509865%2C%20-0.118092%5D%2C%0A%20%20%20%20%20%20%20%20%20%20%20%20%20%20%20%20%7B%22zoomStart%22%3A%205%7D%0A%20%20%20%20%20%20%20%20%20%20%20%20%29.addTo%28map_ab88a7705eee4395a1d50ac9cd3704a3%29%3B%0A%20%20%20%20%20%20%20%20%0A%20%20%20%20%0A%20%20%20%20%20%20%20%20%20%20%20%20var%20marker_1a8ef053e7ce481095adac34bcb0eafd%20%3D%20L.marker%28%0A%20%20%20%20%20%20%20%20%20%20%20%20%20%20%20%20%5B51.9225%2C%204.47917%5D%2C%0A%20%20%20%20%20%20%20%20%20%20%20%20%20%20%20%20%7B%22zoomStart%22%3A%205%7D%0A%20%20%20%20%20%20%20%20%20%20%20%20%29.addTo%28map_ab88a7705eee4395a1d50ac9cd3704a3%29%3B%0A%20%20%20%20%20%20%20%20%0A%20%20%20%20%0A%20%20%20%20%20%20%20%20%20%20%20%20var%20marker_6049f0c4dd36436fa8f7147469ac2474%20%3D%20L.marker%28%0A%20%20%20%20%20%20%20%20%20%20%20%20%20%20%20%20%5B52.01667%2C%204.70833%5D%2C%0A%20%20%20%20%20%20%20%20%20%20%20%20%20%20%20%20%7B%22zoomStart%22%3A%205%7D%0A%20%20%20%20%20%20%20%20%20%20%20%20%29.addTo%28map_ab88a7705eee4395a1d50ac9cd3704a3%29%3B%0A%20%20%20%20%20%20%20%20%0A%20%20%20%20%0A%20%20%20%20%20%20%20%20%20%20%20%20var%20poly_line_7bd91bead82044d1bef397d007925f0f%20%3D%20L.polyline%28%0A%20%20%20%20%20%20%20%20%20%20%20%20%20%20%20%20%5B%5B%5B52.379189%2C%204.899431%5D%2C%20%5B52.092876%2C%205.10448%5D%5D%2C%20%5B%5B52.379189%2C%204.899431%5D%2C%20%5B52.078663%2C%204.288788%5D%5D%2C%20%5B%5B52.379189%2C%204.899431%5D%2C%20%5B53.61239%2C%20-0.22219%5D%5D%2C%20%5B%5B52.092876%2C%205.10448%5D%2C%20%5B52.379189%2C%204.899431%5D%5D%2C%20%5B%5B52.092876%2C%205.10448%5D%2C%20%5B52.01667%2C%204.70833%5D%5D%2C%20%5B%5B52.078663%2C%204.288788%5D%2C%20%5B52.379189%2C%204.899431%5D%5D%2C%20%5B%5B52.078663%2C%204.288788%5D%2C%20%5B51.9225%2C%204.47917%5D%5D%2C%20%5B%5B52.078663%2C%204.288788%5D%2C%20%5B51.9775%2C%204.13333%5D%5D%2C%20%5B%5B52.078663%2C%204.288788%5D%2C%20%5B52.01667%2C%204.70833%5D%5D%2C%20%5B%5B53.61239%2C%20-0.22219%5D%2C%20%5B52.379189%2C%204.899431%5D%5D%2C%20%5B%5B53.61239%2C%20-0.22219%5D%2C%20%5B53.52285%2C%20-1.13116%5D%5D%2C%20%5B%5B53.52285%2C%20-1.13116%5D%2C%20%5B53.61239%2C%20-0.22219%5D%5D%2C%20%5B%5B53.52285%2C%20-1.13116%5D%2C%20%5B51.509865%2C%20-0.118092%5D%5D%2C%20%5B%5B51.9775%2C%204.13333%5D%2C%20%5B52.078663%2C%204.288788%5D%5D%2C%20%5B%5B51.9775%2C%204.13333%5D%2C%20%5B51.96375%2C%201.3511%5D%5D%2C%20%5B%5B51.9775%2C%204.13333%5D%2C%20%5B51.9225%2C%204.47917%5D%5D%2C%20%5B%5B51.96375%2C%201.3511%5D%2C%20%5B51.9775%2C%204.13333%5D%5D%2C%20%5B%5B51.96375%2C%201.3511%5D%2C%20%5B52.05917%2C%201.15545%5D%5D%2C%20%5B%5B52.05917%2C%201.15545%5D%2C%20%5B51.96375%2C%201.3511%5D%5D%2C%20%5B%5B52.05917%2C%201.15545%5D%2C%20%5B51.88921%2C%200.90421%5D%5D%2C%20%5B%5B51.88921%2C%200.90421%5D%2C%20%5B52.05917%2C%201.15545%5D%5D%2C%20%5B%5B51.88921%2C%200.90421%5D%2C%20%5B51.509865%2C%20-0.118092%5D%5D%2C%20%5B%5B51.509865%2C%20-0.118092%5D%2C%20%5B53.52285%2C%20-1.13116%5D%5D%2C%20%5B%5B51.509865%2C%20-0.118092%5D%2C%20%5B51.88921%2C%200.90421%5D%5D%2C%20%5B%5B51.9225%2C%204.47917%5D%2C%20%5B52.078663%2C%204.288788%5D%5D%2C%20%5B%5B51.9225%2C%204.47917%5D%2C%20%5B52.01667%2C%204.70833%5D%5D%2C%20%5B%5B51.9225%2C%204.47917%5D%2C%20%5B51.9775%2C%204.13333%5D%5D%2C%20%5B%5B52.01667%2C%204.70833%5D%2C%20%5B51.9225%2C%204.47917%5D%5D%2C%20%5B%5B52.01667%2C%204.70833%5D%2C%20%5B52.092876%2C%205.10448%5D%5D%2C%20%5B%5B52.01667%2C%204.70833%5D%2C%20%5B52.078663%2C%204.288788%5D%5D%5D%2C%0A%20%20%20%20%20%20%20%20%20%20%20%20%20%20%20%20%7B%22bubblingMouseEvents%22%3A%20true%2C%20%22color%22%3A%20%22yellow%22%2C%20%22dashArray%22%3A%20null%2C%20%22dashOffset%22%3A%20null%2C%20%22fill%22%3A%20false%2C%20%22fillColor%22%3A%20%22yellow%22%2C%20%22fillOpacity%22%3A%200.2%2C%20%22fillRule%22%3A%20%22evenodd%22%2C%20%22lineCap%22%3A%20%22round%22%2C%20%22lineJoin%22%3A%20%22round%22%2C%20%22noClip%22%3A%20false%2C%20%22opacity%22%3A%201.0%2C%20%22smoothFactor%22%3A%201.0%2C%20%22stroke%22%3A%20true%2C%20%22weight%22%3A%203%7D%0A%20%20%20%20%20%20%20%20%20%20%20%20%29.addTo%28map_ab88a7705eee4395a1d50ac9cd3704a3%29%3B%0A%20%20%20%20%20%20%20%20%0A%20%20%20%20%0A%20%20%20%20%20%20%20%20%20%20%20%20var%20poly_line_9838fb41fe2c44ffbbbb4bbcd16a28ef%20%3D%20L.polyline%28%0A%20%20%20%20%20%20%20%20%20%20%20%20%20%20%20%20%5B%5B%5B52.379189%2C%204.899431%5D%2C%20%5B52.092876%2C%205.10448%5D%5D%2C%20%5B%5B52.379189%2C%204.899431%5D%2C%20%5B52.078663%2C%204.288788%5D%5D%2C%20%5B%5B52.379189%2C%204.899431%5D%2C%20%5B53.61239%2C%20-0.22219%5D%5D%2C%20%5B%5B52.092876%2C%205.10448%5D%2C%20%5B52.379189%2C%204.899431%5D%5D%2C%20%5B%5B52.092876%2C%205.10448%5D%2C%20%5B52.01667%2C%204.70833%5D%5D%2C%20%5B%5B52.078663%2C%204.288788%5D%2C%20%5B52.379189%2C%204.899431%5D%5D%2C%20%5B%5B52.078663%2C%204.288788%5D%2C%20%5B51.9225%2C%204.47917%5D%5D%2C%20%5B%5B52.078663%2C%204.288788%5D%2C%20%5B51.9775%2C%204.13333%5D%5D%2C%20%5B%5B52.078663%2C%204.288788%5D%2C%20%5B52.01667%2C%204.70833%5D%5D%2C%20%5B%5B53.61239%2C%20-0.22219%5D%2C%20%5B52.379189%2C%204.899431%5D%5D%2C%20%5B%5B53.61239%2C%20-0.22219%5D%2C%20%5B53.52285%2C%20-1.13116%5D%5D%2C%20%5B%5B53.52285%2C%20-1.13116%5D%2C%20%5B53.61239%2C%20-0.22219%5D%5D%2C%20%5B%5B53.52285%2C%20-1.13116%5D%2C%20%5B51.509865%2C%20-0.118092%5D%5D%2C%20%5B%5B51.9775%2C%204.13333%5D%2C%20%5B52.078663%2C%204.288788%5D%5D%2C%20%5B%5B51.9775%2C%204.13333%5D%2C%20%5B51.96375%2C%201.3511%5D%5D%2C%20%5B%5B51.9775%2C%204.13333%5D%2C%20%5B51.9225%2C%204.47917%5D%5D%2C%20%5B%5B51.96375%2C%201.3511%5D%2C%20%5B51.9775%2C%204.13333%5D%5D%2C%20%5B%5B51.96375%2C%201.3511%5D%2C%20%5B52.05917%2C%201.15545%5D%5D%2C%20%5B%5B52.05917%2C%201.15545%5D%2C%20%5B51.96375%2C%201.3511%5D%5D%2C%20%5B%5B52.05917%2C%201.15545%5D%2C%20%5B51.88921%2C%200.90421%5D%5D%2C%20%5B%5B51.88921%2C%200.90421%5D%2C%20%5B52.05917%2C%201.15545%5D%5D%2C%20%5B%5B51.88921%2C%200.90421%5D%2C%20%5B51.509865%2C%20-0.118092%5D%5D%2C%20%5B%5B51.509865%2C%20-0.118092%5D%2C%20%5B53.52285%2C%20-1.13116%5D%5D%2C%20%5B%5B51.509865%2C%20-0.118092%5D%2C%20%5B51.88921%2C%200.90421%5D%5D%2C%20%5B%5B51.9225%2C%204.47917%5D%2C%20%5B52.078663%2C%204.288788%5D%5D%2C%20%5B%5B51.9225%2C%204.47917%5D%2C%20%5B52.01667%2C%204.70833%5D%5D%2C%20%5B%5B51.9225%2C%204.47917%5D%2C%20%5B51.9775%2C%204.13333%5D%5D%2C%20%5B%5B52.01667%2C%204.70833%5D%2C%20%5B51.9225%2C%204.47917%5D%5D%2C%20%5B%5B52.01667%2C%204.70833%5D%2C%20%5B52.092876%2C%205.10448%5D%5D%2C%20%5B%5B52.01667%2C%204.70833%5D%2C%20%5B52.078663%2C%204.288788%5D%5D%5D%2C%0A%20%20%20%20%20%20%20%20%20%20%20%20%20%20%20%20%7B%22bubblingMouseEvents%22%3A%20true%2C%20%22color%22%3A%20%22yellow%22%2C%20%22dashArray%22%3A%20null%2C%20%22dashOffset%22%3A%20null%2C%20%22fill%22%3A%20false%2C%20%22fillColor%22%3A%20%22yellow%22%2C%20%22fillOpacity%22%3A%200.2%2C%20%22fillRule%22%3A%20%22evenodd%22%2C%20%22lineCap%22%3A%20%22round%22%2C%20%22lineJoin%22%3A%20%22round%22%2C%20%22noClip%22%3A%20false%2C%20%22opacity%22%3A%201.0%2C%20%22smoothFactor%22%3A%201.0%2C%20%22stroke%22%3A%20true%2C%20%22weight%22%3A%203%7D%0A%20%20%20%20%20%20%20%20%20%20%20%20%29.addTo%28map_ab88a7705eee4395a1d50ac9cd3704a3%29%3B%0A%20%20%20%20%20%20%20%20%0A%3C/script%3E onload=\"this.contentDocument.open();this.contentDocument.write(    decodeURIComponent(this.getAttribute('data-html')));this.contentDocument.close();\" allowfullscreen webkitallowfullscreen mozallowfullscreen></iframe></div></div>"
      ],
      "text/plain": [
       "<folium.folium.Map at 0x7fef101ca280>"
      ]
     },
     "execution_count": 34,
     "metadata": {},
     "output_type": "execute_result"
    }
   ],
   "source": [
    "basemap"
   ]
  },
  {
   "cell_type": "code",
   "execution_count": 2,
   "id": "211e3083",
   "metadata": {},
   "outputs": [],
   "source": [
    "#Part number 2(Cheikh Kayré Mbengue)\n",
    "import csv\n",
    "\n",
    "class Noeud:\n",
    "    \n",
    "    def __init__(self,name):\n",
    "        self.name = name\n",
    "        self.attributs = {}\n",
    "        self.listeNomVoisin = []\n",
    "        \n",
    "    \n",
    "    #defining custom getters and settters   \n",
    "    def setAttribut(self,key,values):\n",
    "        self.attributs[key]=values\n",
    "        \n",
    "    def getAttribut(self,key):\n",
    "        return self.attributs[key] \n",
    "\n",
    "    def getName(self):\n",
    "        return self.name\n",
    "     \n",
    "    def egal(self, noeud):\n",
    "        if self.name == noeud.getName():\n",
    "            return True\n",
    "        return False\n",
    "\n",
    "    def getCoutMin(self):\n",
    "        pass\n",
    "\n",
    "    def getCout(self,noeud):\n",
    "        pass\n",
    "    \n",
    "    \n",
    "\n",
    "#Graph Class\n",
    "class Graphe:\n",
    "    def __init__(self):\n",
    "        self.noeuds = []\n",
    "        self.arcs = {}\n",
    "    #function to create node    \n",
    "    def creerNoeuds(self,fichiernoeuds): \n",
    "        listNoeuds=[]\n",
    "        with open(fichiernoeuds, 'r') as file: #pour la lecture du fichier csv\n",
    "            readAll = csv.DictReader(file) #lecture du fichier en gros\n",
    "            for i in readAll:\n",
    "                newNoeud=Noeud(i['id']) #creation d'un nouveau noeud\n",
    "                newNoeud.setAttribut('latitude',i['latitude'])\n",
    "                newNoeud.setAttribut('longitude',i['longitude']) \n",
    "                newNoeud.setAttribut('population',i['population'])\n",
    "                ln=self.noeuds.append(newNoeud)\n",
    "                listNoeuds+=[ln]\n",
    "        \n",
    "        self.noeuds=listNoeuds\n",
    "        return self.noeuds\n",
    "    \n",
    "      #function to create arcs\n",
    "    def creerArc(self, fichierarcs):\n",
    "        arcs=[]\n",
    "        with open(fichierarcs, 'r') as file:\n",
    "            readAll = csv.DictReader(file)\n",
    "            for i in readAll:\n",
    "                self.arcs['src']=i['src']\n",
    "                self.arcs['dst']=i['dst']\n",
    "                self.arcs['relationship']=i['relationship']\n",
    "                self.arcs['cost']=i['cost']\n",
    "                var=self.arcs.copy()\n",
    "                arcs+=[var]\n",
    "                for aff in self.noeuds:\n",
    "                    if aff.getName()==i['src']:\n",
    "                        tuple=(i['dst'],i['cost'])\n",
    "                        aff.listeNomVoisin.append(tuple)\n",
    "        self.arcs=arcs                \n",
    "        return self.arcs\n",
    "    \n",
    "    #function to get a specific node\n",
    "    def getNoeud(self,name):\n",
    "        for recup in self.noeuds:\n",
    "                if recup.getName()==name:\n",
    "                    return recup\n",
    "        return 'Nom Introuvable'\n",
    "    \n",
    "     #function to get neighbors of a specific node\n",
    "    def getVoisins(self, noeud):\n",
    "        Voisins=noeud.listeNomVoisin.copy()\n",
    "        mesVoisins=[]\n",
    "        for get in Voisins:\n",
    "            mesVoisins+=[self.getNoeud(get[0])]\n",
    "            print(mesVoisins[0].getName())\n",
    "        return mesVoisins\n",
    "    \n",
    "    #function to get coordinates of a node\n",
    "    def getCoordonnesVoisins(self,noeud):\n",
    "            noeudVoisins=self.getVoisins(noeud)\n",
    "            listCoordonnes=[]\n",
    "            for i in noeudVoisins:\n",
    "                tmp=[i.getAttribut('latitude'),i.getAttribut('longitude')]\n",
    "                listCoordonnes+=[tmp]\n",
    "            return listCoordonnes\n",
    "\n",
    "    #function to get a list of coordinates\n",
    "    def getListeCoordonnees(self,listeNoeud):\n",
    "            NomNoeud=[]\n",
    "            for i in listeNoeud:\n",
    "                getNoeudCoord=[self.getNoeud(i).getAttribut('latitude'),self.getNoeud(i).getAttribut('longitude')]\n",
    "                NomNoeud+=[getNoeudCoord]\n",
    "            return NomNoeud\n",
    "        \n",
    "     #function to get     \n",
    "    def visualiserFolium(self):\n",
    "            visual = folium.Map(location=[52.3791890, 4.899431],tiles='Stamen Toner',explored=None)\n",
    "            for i in self.noeuds:\n",
    "                folium.Marker([i.getAttribut('latitude'),i.getAttribut('longitude')], popup=i.getName()).add_to(visual)\n",
    "            return visual\n",
    "        \n",
    "\n"
   ]
  },
  {
   "cell_type": "code",
   "execution_count": 37,
   "id": "fd7107f2",
   "metadata": {},
   "outputs": [
    {
     "data": {
      "text/plain": [
       "[None, None, None, None, None, None, None, None, None, None, None, None]"
      ]
     },
     "execution_count": 37,
     "metadata": {},
     "output_type": "execute_result"
    }
   ],
   "source": [
    "aff = Graphe()\n",
    "aff.creerNoeuds('transport-nodes.csv')"
   ]
  },
  {
   "cell_type": "code",
   "execution_count": 38,
   "id": "d13fc740",
   "metadata": {},
   "outputs": [
    {
     "data": {
      "text/plain": [
       "[{'src': 'Amsterdam', 'dst': 'Utrecht', 'relationship': 'EROAD', 'cost': '46'},\n",
       " {'src': 'Amsterdam',\n",
       "  'dst': 'Den Haag',\n",
       "  'relationship': 'EROAD',\n",
       "  'cost': '59'},\n",
       " {'src': 'Den Haag',\n",
       "  'dst': 'Rotterdam',\n",
       "  'relationship': 'EROAD',\n",
       "  'cost': '26'},\n",
       " {'src': 'Amsterdam',\n",
       "  'dst': 'Immingham',\n",
       "  'relationship': 'EROAD',\n",
       "  'cost': '369'},\n",
       " {'src': 'Immingham',\n",
       "  'dst': 'Doncaster',\n",
       "  'relationship': 'EROAD',\n",
       "  'cost': '74'},\n",
       " {'src': 'Doncaster', 'dst': 'London', 'relationship': 'EROAD', 'cost': '277'},\n",
       " {'src': 'Hoek van Holland',\n",
       "  'dst': 'Den Haag',\n",
       "  'relationship': 'EROAD',\n",
       "  'cost': '27'},\n",
       " {'src': 'Felixstowe',\n",
       "  'dst': 'Hoek van Holland',\n",
       "  'relationship': 'EROAD',\n",
       "  'cost': '207'},\n",
       " {'src': 'Ipswich',\n",
       "  'dst': 'Felixstowe',\n",
       "  'relationship': 'EROAD',\n",
       "  'cost': '22'},\n",
       " {'src': 'Colchester',\n",
       "  'dst': 'Ipswich',\n",
       "  'relationship': 'EROAD',\n",
       "  'cost': '32'},\n",
       " {'src': 'London',\n",
       "  'dst': 'Colchester',\n",
       "  'relationship': 'EROAD',\n",
       "  'cost': '106'},\n",
       " {'src': 'Gouda', 'dst': 'Rotterdam', 'relationship': 'EROAD', 'cost': '25'},\n",
       " {'src': 'Gouda', 'dst': 'Utrecht', 'relationship': 'EROAD', 'cost': '35'},\n",
       " {'src': 'Den Haag', 'dst': 'Gouda', 'relationship': 'EROAD', 'cost': '32'},\n",
       " {'src': 'Hoek van Holland',\n",
       "  'dst': 'Rotterdam',\n",
       "  'relationship': 'EROAD',\n",
       "  'cost': '33'}]"
      ]
     },
     "execution_count": 38,
     "metadata": {},
     "output_type": "execute_result"
    }
   ],
   "source": [
    "aff = Graphe()\n",
    "aff.creerArc(\"transport-relationships.csv\")"
   ]
  },
  {
   "cell_type": "code",
   "execution_count": 39,
   "id": "f393fd77",
   "metadata": {},
   "outputs": [
    {
     "data": {
      "text/html": [
       "<div style=\"width:100%;\"><div style=\"position:relative;width:100%;height:0;padding-bottom:60%;\"><span style=\"color:#565656\">Make this Notebook Trusted to load map: File -> Trust Notebook</span><iframe src=\"about:blank\" style=\"position:absolute;width:100%;height:100%;left:0;top:0;border:none !important;\" data-html=%3C%21DOCTYPE%20html%3E%0A%3Chead%3E%20%20%20%20%0A%20%20%20%20%3Cmeta%20http-equiv%3D%22content-type%22%20content%3D%22text/html%3B%20charset%3DUTF-8%22%20/%3E%0A%20%20%20%20%0A%20%20%20%20%20%20%20%20%3Cscript%3E%0A%20%20%20%20%20%20%20%20%20%20%20%20L_NO_TOUCH%20%3D%20false%3B%0A%20%20%20%20%20%20%20%20%20%20%20%20L_DISABLE_3D%20%3D%20false%3B%0A%20%20%20%20%20%20%20%20%3C/script%3E%0A%20%20%20%20%0A%20%20%20%20%3Cstyle%3Ehtml%2C%20body%20%7Bwidth%3A%20100%25%3Bheight%3A%20100%25%3Bmargin%3A%200%3Bpadding%3A%200%3B%7D%3C/style%3E%0A%20%20%20%20%3Cstyle%3E%23map%20%7Bposition%3Aabsolute%3Btop%3A0%3Bbottom%3A0%3Bright%3A0%3Bleft%3A0%3B%7D%3C/style%3E%0A%20%20%20%20%3Cscript%20src%3D%22https%3A//cdn.jsdelivr.net/npm/leaflet%401.6.0/dist/leaflet.js%22%3E%3C/script%3E%0A%20%20%20%20%3Cscript%20src%3D%22https%3A//code.jquery.com/jquery-1.12.4.min.js%22%3E%3C/script%3E%0A%20%20%20%20%3Cscript%20src%3D%22https%3A//maxcdn.bootstrapcdn.com/bootstrap/3.2.0/js/bootstrap.min.js%22%3E%3C/script%3E%0A%20%20%20%20%3Cscript%20src%3D%22https%3A//cdnjs.cloudflare.com/ajax/libs/Leaflet.awesome-markers/2.0.2/leaflet.awesome-markers.js%22%3E%3C/script%3E%0A%20%20%20%20%3Clink%20rel%3D%22stylesheet%22%20href%3D%22https%3A//cdn.jsdelivr.net/npm/leaflet%401.6.0/dist/leaflet.css%22/%3E%0A%20%20%20%20%3Clink%20rel%3D%22stylesheet%22%20href%3D%22https%3A//maxcdn.bootstrapcdn.com/bootstrap/3.2.0/css/bootstrap.min.css%22/%3E%0A%20%20%20%20%3Clink%20rel%3D%22stylesheet%22%20href%3D%22https%3A//maxcdn.bootstrapcdn.com/bootstrap/3.2.0/css/bootstrap-theme.min.css%22/%3E%0A%20%20%20%20%3Clink%20rel%3D%22stylesheet%22%20href%3D%22https%3A//maxcdn.bootstrapcdn.com/font-awesome/4.6.3/css/font-awesome.min.css%22/%3E%0A%20%20%20%20%3Clink%20rel%3D%22stylesheet%22%20href%3D%22https%3A//cdnjs.cloudflare.com/ajax/libs/Leaflet.awesome-markers/2.0.2/leaflet.awesome-markers.css%22/%3E%0A%20%20%20%20%3Clink%20rel%3D%22stylesheet%22%20href%3D%22https%3A//cdn.jsdelivr.net/gh/python-visualization/folium/folium/templates/leaflet.awesome.rotate.min.css%22/%3E%0A%20%20%20%20%0A%20%20%20%20%20%20%20%20%20%20%20%20%3Cmeta%20name%3D%22viewport%22%20content%3D%22width%3Ddevice-width%2C%0A%20%20%20%20%20%20%20%20%20%20%20%20%20%20%20%20initial-scale%3D1.0%2C%20maximum-scale%3D1.0%2C%20user-scalable%3Dno%22%20/%3E%0A%20%20%20%20%20%20%20%20%20%20%20%20%3Cstyle%3E%0A%20%20%20%20%20%20%20%20%20%20%20%20%20%20%20%20%23map_abd707d1135c46448dd786cb6eaf54e3%20%7B%0A%20%20%20%20%20%20%20%20%20%20%20%20%20%20%20%20%20%20%20%20position%3A%20relative%3B%0A%20%20%20%20%20%20%20%20%20%20%20%20%20%20%20%20%20%20%20%20width%3A%20100.0%25%3B%0A%20%20%20%20%20%20%20%20%20%20%20%20%20%20%20%20%20%20%20%20height%3A%20100.0%25%3B%0A%20%20%20%20%20%20%20%20%20%20%20%20%20%20%20%20%20%20%20%20left%3A%200.0%25%3B%0A%20%20%20%20%20%20%20%20%20%20%20%20%20%20%20%20%20%20%20%20top%3A%200.0%25%3B%0A%20%20%20%20%20%20%20%20%20%20%20%20%20%20%20%20%7D%0A%20%20%20%20%20%20%20%20%20%20%20%20%3C/style%3E%0A%20%20%20%20%20%20%20%20%0A%3C/head%3E%0A%3Cbody%3E%20%20%20%20%0A%20%20%20%20%0A%20%20%20%20%20%20%20%20%20%20%20%20%3Cdiv%20class%3D%22folium-map%22%20id%3D%22map_abd707d1135c46448dd786cb6eaf54e3%22%20%3E%3C/div%3E%0A%20%20%20%20%20%20%20%20%0A%3C/body%3E%0A%3Cscript%3E%20%20%20%20%0A%20%20%20%20%0A%20%20%20%20%20%20%20%20%20%20%20%20var%20map_abd707d1135c46448dd786cb6eaf54e3%20%3D%20L.map%28%0A%20%20%20%20%20%20%20%20%20%20%20%20%20%20%20%20%22map_abd707d1135c46448dd786cb6eaf54e3%22%2C%0A%20%20%20%20%20%20%20%20%20%20%20%20%20%20%20%20%7B%0A%20%20%20%20%20%20%20%20%20%20%20%20%20%20%20%20%20%20%20%20center%3A%20%5B52.379189%2C%204.899431%5D%2C%0A%20%20%20%20%20%20%20%20%20%20%20%20%20%20%20%20%20%20%20%20crs%3A%20L.CRS.EPSG3857%2C%0A%20%20%20%20%20%20%20%20%20%20%20%20%20%20%20%20%20%20%20%20zoom%3A%2010%2C%0A%20%20%20%20%20%20%20%20%20%20%20%20%20%20%20%20%20%20%20%20zoomControl%3A%20true%2C%0A%20%20%20%20%20%20%20%20%20%20%20%20%20%20%20%20%20%20%20%20preferCanvas%3A%20false%2C%0A%20%20%20%20%20%20%20%20%20%20%20%20%20%20%20%20%7D%0A%20%20%20%20%20%20%20%20%20%20%20%20%29%3B%0A%0A%20%20%20%20%20%20%20%20%20%20%20%20%0A%0A%20%20%20%20%20%20%20%20%0A%20%20%20%20%0A%20%20%20%20%20%20%20%20%20%20%20%20var%20tile_layer_0b37fb7efa4640b4bb0ec3dac5423a3b%20%3D%20L.tileLayer%28%0A%20%20%20%20%20%20%20%20%20%20%20%20%20%20%20%20%22https%3A//stamen-tiles-%7Bs%7D.a.ssl.fastly.net/toner/%7Bz%7D/%7Bx%7D/%7By%7D.png%22%2C%0A%20%20%20%20%20%20%20%20%20%20%20%20%20%20%20%20%7B%22attribution%22%3A%20%22Map%20tiles%20by%20%5Cu003ca%20href%3D%5C%22http%3A//stamen.com%5C%22%5Cu003eStamen%20Design%5Cu003c/a%5Cu003e%2C%20under%20%5Cu003ca%20href%3D%5C%22http%3A//creativecommons.org/licenses/by/3.0%5C%22%5Cu003eCC%20BY%203.0%5Cu003c/a%5Cu003e.%20Data%20by%20%5Cu0026copy%3B%20%5Cu003ca%20href%3D%5C%22http%3A//openstreetmap.org%5C%22%5Cu003eOpenStreetMap%5Cu003c/a%5Cu003e%2C%20under%20%5Cu003ca%20href%3D%5C%22http%3A//www.openstreetmap.org/copyright%5C%22%5Cu003eODbL%5Cu003c/a%5Cu003e.%22%2C%20%22detectRetina%22%3A%20false%2C%20%22maxNativeZoom%22%3A%2018%2C%20%22maxZoom%22%3A%2018%2C%20%22minZoom%22%3A%200%2C%20%22noWrap%22%3A%20false%2C%20%22opacity%22%3A%201%2C%20%22subdomains%22%3A%20%22abc%22%2C%20%22tms%22%3A%20false%7D%0A%20%20%20%20%20%20%20%20%20%20%20%20%29.addTo%28map_abd707d1135c46448dd786cb6eaf54e3%29%3B%0A%20%20%20%20%20%20%20%20%0A%3C/script%3E onload=\"this.contentDocument.open();this.contentDocument.write(    decodeURIComponent(this.getAttribute('data-html')));this.contentDocument.close();\" allowfullscreen webkitallowfullscreen mozallowfullscreen></iframe></div></div>"
      ],
      "text/plain": [
       "<folium.folium.Map at 0x7fef1010d9a0>"
      ]
     },
     "execution_count": 39,
     "metadata": {},
     "output_type": "execute_result"
    }
   ],
   "source": [
    "aff.visualiserFolium()"
   ]
  },
  {
   "cell_type": "code",
   "execution_count": 81,
   "id": "29bee88b",
   "metadata": {},
   "outputs": [
    {
     "data": {
      "text/html": [
       "<div style=\"width:100%;\"><div style=\"position:relative;width:100%;height:0;padding-bottom:60%;\"><span style=\"color:#565656\">Make this Notebook Trusted to load map: File -> Trust Notebook</span><iframe src=\"about:blank\" style=\"position:absolute;width:100%;height:100%;left:0;top:0;border:none !important;\" data-html=%3C%21DOCTYPE%20html%3E%0A%3Chead%3E%20%20%20%20%0A%20%20%20%20%3Cmeta%20http-equiv%3D%22content-type%22%20content%3D%22text/html%3B%20charset%3DUTF-8%22%20/%3E%0A%20%20%20%20%0A%20%20%20%20%20%20%20%20%3Cscript%3E%0A%20%20%20%20%20%20%20%20%20%20%20%20L_NO_TOUCH%20%3D%20false%3B%0A%20%20%20%20%20%20%20%20%20%20%20%20L_DISABLE_3D%20%3D%20false%3B%0A%20%20%20%20%20%20%20%20%3C/script%3E%0A%20%20%20%20%0A%20%20%20%20%3Cstyle%3Ehtml%2C%20body%20%7Bwidth%3A%20100%25%3Bheight%3A%20100%25%3Bmargin%3A%200%3Bpadding%3A%200%3B%7D%3C/style%3E%0A%20%20%20%20%3Cstyle%3E%23map%20%7Bposition%3Aabsolute%3Btop%3A0%3Bbottom%3A0%3Bright%3A0%3Bleft%3A0%3B%7D%3C/style%3E%0A%20%20%20%20%3Cscript%20src%3D%22https%3A//cdn.jsdelivr.net/npm/leaflet%401.6.0/dist/leaflet.js%22%3E%3C/script%3E%0A%20%20%20%20%3Cscript%20src%3D%22https%3A//code.jquery.com/jquery-1.12.4.min.js%22%3E%3C/script%3E%0A%20%20%20%20%3Cscript%20src%3D%22https%3A//maxcdn.bootstrapcdn.com/bootstrap/3.2.0/js/bootstrap.min.js%22%3E%3C/script%3E%0A%20%20%20%20%3Cscript%20src%3D%22https%3A//cdnjs.cloudflare.com/ajax/libs/Leaflet.awesome-markers/2.0.2/leaflet.awesome-markers.js%22%3E%3C/script%3E%0A%20%20%20%20%3Clink%20rel%3D%22stylesheet%22%20href%3D%22https%3A//cdn.jsdelivr.net/npm/leaflet%401.6.0/dist/leaflet.css%22/%3E%0A%20%20%20%20%3Clink%20rel%3D%22stylesheet%22%20href%3D%22https%3A//maxcdn.bootstrapcdn.com/bootstrap/3.2.0/css/bootstrap.min.css%22/%3E%0A%20%20%20%20%3Clink%20rel%3D%22stylesheet%22%20href%3D%22https%3A//maxcdn.bootstrapcdn.com/bootstrap/3.2.0/css/bootstrap-theme.min.css%22/%3E%0A%20%20%20%20%3Clink%20rel%3D%22stylesheet%22%20href%3D%22https%3A//maxcdn.bootstrapcdn.com/font-awesome/4.6.3/css/font-awesome.min.css%22/%3E%0A%20%20%20%20%3Clink%20rel%3D%22stylesheet%22%20href%3D%22https%3A//cdnjs.cloudflare.com/ajax/libs/Leaflet.awesome-markers/2.0.2/leaflet.awesome-markers.css%22/%3E%0A%20%20%20%20%3Clink%20rel%3D%22stylesheet%22%20href%3D%22https%3A//cdn.jsdelivr.net/gh/python-visualization/folium/folium/templates/leaflet.awesome.rotate.min.css%22/%3E%0A%20%20%20%20%0A%20%20%20%20%20%20%20%20%20%20%20%20%3Cmeta%20name%3D%22viewport%22%20content%3D%22width%3Ddevice-width%2C%0A%20%20%20%20%20%20%20%20%20%20%20%20%20%20%20%20initial-scale%3D1.0%2C%20maximum-scale%3D1.0%2C%20user-scalable%3Dno%22%20/%3E%0A%20%20%20%20%20%20%20%20%20%20%20%20%3Cstyle%3E%0A%20%20%20%20%20%20%20%20%20%20%20%20%20%20%20%20%23map_900ef288b2e44165aafd8ca1eb0afd52%20%7B%0A%20%20%20%20%20%20%20%20%20%20%20%20%20%20%20%20%20%20%20%20position%3A%20relative%3B%0A%20%20%20%20%20%20%20%20%20%20%20%20%20%20%20%20%20%20%20%20width%3A%20100.0%25%3B%0A%20%20%20%20%20%20%20%20%20%20%20%20%20%20%20%20%20%20%20%20height%3A%20100.0%25%3B%0A%20%20%20%20%20%20%20%20%20%20%20%20%20%20%20%20%20%20%20%20left%3A%200.0%25%3B%0A%20%20%20%20%20%20%20%20%20%20%20%20%20%20%20%20%20%20%20%20top%3A%200.0%25%3B%0A%20%20%20%20%20%20%20%20%20%20%20%20%20%20%20%20%7D%0A%20%20%20%20%20%20%20%20%20%20%20%20%3C/style%3E%0A%20%20%20%20%20%20%20%20%0A%3C/head%3E%0A%3Cbody%3E%20%20%20%20%0A%20%20%20%20%0A%20%20%20%20%20%20%20%20%20%20%20%20%3Cdiv%20class%3D%22folium-map%22%20id%3D%22map_900ef288b2e44165aafd8ca1eb0afd52%22%20%3E%3C/div%3E%0A%20%20%20%20%20%20%20%20%0A%3C/body%3E%0A%3Cscript%3E%20%20%20%20%0A%20%20%20%20%0A%20%20%20%20%20%20%20%20%20%20%20%20var%20map_900ef288b2e44165aafd8ca1eb0afd52%20%3D%20L.map%28%0A%20%20%20%20%20%20%20%20%20%20%20%20%20%20%20%20%22map_900ef288b2e44165aafd8ca1eb0afd52%22%2C%0A%20%20%20%20%20%20%20%20%20%20%20%20%20%20%20%20%7B%0A%20%20%20%20%20%20%20%20%20%20%20%20%20%20%20%20%20%20%20%20center%3A%20%5B52.379189%2C%204.899431%5D%2C%0A%20%20%20%20%20%20%20%20%20%20%20%20%20%20%20%20%20%20%20%20crs%3A%20L.CRS.EPSG3857%2C%0A%20%20%20%20%20%20%20%20%20%20%20%20%20%20%20%20%20%20%20%20zoom%3A%2010%2C%0A%20%20%20%20%20%20%20%20%20%20%20%20%20%20%20%20%20%20%20%20zoomControl%3A%20true%2C%0A%20%20%20%20%20%20%20%20%20%20%20%20%20%20%20%20%20%20%20%20preferCanvas%3A%20false%2C%0A%20%20%20%20%20%20%20%20%20%20%20%20%20%20%20%20%7D%0A%20%20%20%20%20%20%20%20%20%20%20%20%29%3B%0A%0A%20%20%20%20%20%20%20%20%20%20%20%20%0A%0A%20%20%20%20%20%20%20%20%0A%20%20%20%20%0A%20%20%20%20%20%20%20%20%20%20%20%20var%20tile_layer_3650398723f24620b162016797c1d272%20%3D%20L.tileLayer%28%0A%20%20%20%20%20%20%20%20%20%20%20%20%20%20%20%20%22https%3A//stamen-tiles-%7Bs%7D.a.ssl.fastly.net/toner/%7Bz%7D/%7Bx%7D/%7By%7D.png%22%2C%0A%20%20%20%20%20%20%20%20%20%20%20%20%20%20%20%20%7B%22attribution%22%3A%20%22Map%20tiles%20by%20%5Cu003ca%20href%3D%5C%22http%3A//stamen.com%5C%22%5Cu003eStamen%20Design%5Cu003c/a%5Cu003e%2C%20under%20%5Cu003ca%20href%3D%5C%22http%3A//creativecommons.org/licenses/by/3.0%5C%22%5Cu003eCC%20BY%203.0%5Cu003c/a%5Cu003e.%20Data%20by%20%5Cu0026copy%3B%20%5Cu003ca%20href%3D%5C%22http%3A//openstreetmap.org%5C%22%5Cu003eOpenStreetMap%5Cu003c/a%5Cu003e%2C%20under%20%5Cu003ca%20href%3D%5C%22http%3A//www.openstreetmap.org/copyright%5C%22%5Cu003eODbL%5Cu003c/a%5Cu003e.%22%2C%20%22detectRetina%22%3A%20false%2C%20%22maxNativeZoom%22%3A%2018%2C%20%22maxZoom%22%3A%2018%2C%20%22minZoom%22%3A%200%2C%20%22noWrap%22%3A%20false%2C%20%22opacity%22%3A%201%2C%20%22subdomains%22%3A%20%22abc%22%2C%20%22tms%22%3A%20false%7D%0A%20%20%20%20%20%20%20%20%20%20%20%20%29.addTo%28map_900ef288b2e44165aafd8ca1eb0afd52%29%3B%0A%20%20%20%20%20%20%20%20%0A%3C/script%3E onload=\"this.contentDocument.open();this.contentDocument.write(    decodeURIComponent(this.getAttribute('data-html')));this.contentDocument.close();\" allowfullscreen webkitallowfullscreen mozallowfullscreen></iframe></div></div>"
      ],
      "text/plain": [
       "<folium.folium.Map at 0x7f66faa52460>"
      ]
     },
     "execution_count": 81,
     "metadata": {},
     "output_type": "execute_result"
    }
   ],
   "source": []
  },
  {
   "cell_type": "code",
   "execution_count": 66,
   "id": "3d8728a2",
   "metadata": {},
   "outputs": [],
   "source": [
    "#Part 4 (Mohamed Ndoye)\n",
    "#will traverse the graph using the depth first search algorithm\n",
    "def parcours_dfs(myGraphe, noeud_src, noeud_dest):\n",
    "    node_to_visit = [noeud_src]\n",
    "    node_visited = []\n",
    "\n",
    "    while node_to_visit:\n",
    "        vertex = node_to_visit.pop()\n",
    "       \n",
    "        if vertex in node_visited:\n",
    "            continue\n",
    "        \n",
    "        node_visited.append(vertex)\n",
    "        if vertex == noeud_dest:\n",
    "            break\n",
    "        for neighbor in myGraphe[vertex]:\n",
    "            node_to_visit.append( neighbor)\n",
    "    return node_visited\n"
   ]
  },
  {
   "cell_type": "code",
   "execution_count": 6,
   "id": "ec6ddbd0",
   "metadata": {},
   "outputs": [],
   "source": [
    "tncsv = pd.read_csv('transport-relationships.csv')\n",
    "makeGraph = tncsv[['src', 'dst']]\n",
    "F = nx.from_pandas_edgelist(makeGraph, 'src', 'dst')"
   ]
  },
  {
   "cell_type": "code",
   "execution_count": 69,
   "id": "db34119c",
   "metadata": {},
   "outputs": [
    {
     "name": "stdout",
     "output_type": "stream",
     "text": [
      "['Amsterdam', 'Immingham', 'Doncaster', 'London', 'Colchester', 'Ipswich', 'Felixstowe', 'Hoek van Holland', 'Rotterdam']\n"
     ]
    }
   ],
   "source": [
    "print(parcours_dfs(F, 'Amsterdam', 'Rotterdam'))"
   ]
  },
  {
   "cell_type": "code",
   "execution_count": 58,
   "id": "48d31ec0",
   "metadata": {},
   "outputs": [],
   "source": [
    "\n",
    "#will traverse the graph using the breadth first search algorithm\n",
    "def parcours_bfs(myGraphe, noeud_src, noeud_dst):\n",
    "    visit_complete=[noeud_src]\n",
    "    queue = []\n",
    "    queue.append(noeud_src)\n",
    "\n",
    "    while queue:\n",
    "        s = queue.pop(0)\n",
    "        print(s)\n",
    "        if s == noeud_dst:\n",
    "            return\n",
    "               \n",
    "        if s is noeud_dst:\n",
    "            return\n",
    "        for neighbour in myGraphe[s]:\n",
    "            if neighbour not in visit_complete:\n",
    "                visit_complete.append(neighbour)\n",
    "                queue.append(neighbour)\n",
    "            \n",
    "            "
   ]
  },
  {
   "cell_type": "code",
   "execution_count": 60,
   "id": "3374841e",
   "metadata": {},
   "outputs": [
    {
     "name": "stdout",
     "output_type": "stream",
     "text": [
      "Amsterdam\n",
      "Utrecht\n",
      "Den Haag\n",
      "Immingham\n",
      "LE VOILA\n",
      "None\n"
     ]
    }
   ],
   "source": [
    "print(parcours_bfs(F, 'Amsterdam', 'Immingham'))"
   ]
  },
  {
   "cell_type": "code",
   "execution_count": 5,
   "id": "46328548",
   "metadata": {},
   "outputs": [
    {
     "data": {
      "text/html": [
       "<div style=\"width:100%;\"><div style=\"position:relative;width:100%;height:0;padding-bottom:60%;\"><span style=\"color:#565656\">Make this Notebook Trusted to load map: File -> Trust Notebook</span><iframe src=\"about:blank\" style=\"position:absolute;width:100%;height:100%;left:0;top:0;border:none !important;\" data-html=%3C%21DOCTYPE%20html%3E%0A%3Chead%3E%20%20%20%20%0A%20%20%20%20%3Cmeta%20http-equiv%3D%22content-type%22%20content%3D%22text/html%3B%20charset%3DUTF-8%22%20/%3E%0A%20%20%20%20%0A%20%20%20%20%20%20%20%20%3Cscript%3E%0A%20%20%20%20%20%20%20%20%20%20%20%20L_NO_TOUCH%20%3D%20false%3B%0A%20%20%20%20%20%20%20%20%20%20%20%20L_DISABLE_3D%20%3D%20false%3B%0A%20%20%20%20%20%20%20%20%3C/script%3E%0A%20%20%20%20%0A%20%20%20%20%3Cstyle%3Ehtml%2C%20body%20%7Bwidth%3A%20100%25%3Bheight%3A%20100%25%3Bmargin%3A%200%3Bpadding%3A%200%3B%7D%3C/style%3E%0A%20%20%20%20%3Cstyle%3E%23map%20%7Bposition%3Aabsolute%3Btop%3A0%3Bbottom%3A0%3Bright%3A0%3Bleft%3A0%3B%7D%3C/style%3E%0A%20%20%20%20%3Cscript%20src%3D%22https%3A//cdn.jsdelivr.net/npm/leaflet%401.6.0/dist/leaflet.js%22%3E%3C/script%3E%0A%20%20%20%20%3Cscript%20src%3D%22https%3A//code.jquery.com/jquery-1.12.4.min.js%22%3E%3C/script%3E%0A%20%20%20%20%3Cscript%20src%3D%22https%3A//maxcdn.bootstrapcdn.com/bootstrap/3.2.0/js/bootstrap.min.js%22%3E%3C/script%3E%0A%20%20%20%20%3Cscript%20src%3D%22https%3A//cdnjs.cloudflare.com/ajax/libs/Leaflet.awesome-markers/2.0.2/leaflet.awesome-markers.js%22%3E%3C/script%3E%0A%20%20%20%20%3Clink%20rel%3D%22stylesheet%22%20href%3D%22https%3A//cdn.jsdelivr.net/npm/leaflet%401.6.0/dist/leaflet.css%22/%3E%0A%20%20%20%20%3Clink%20rel%3D%22stylesheet%22%20href%3D%22https%3A//maxcdn.bootstrapcdn.com/bootstrap/3.2.0/css/bootstrap.min.css%22/%3E%0A%20%20%20%20%3Clink%20rel%3D%22stylesheet%22%20href%3D%22https%3A//maxcdn.bootstrapcdn.com/bootstrap/3.2.0/css/bootstrap-theme.min.css%22/%3E%0A%20%20%20%20%3Clink%20rel%3D%22stylesheet%22%20href%3D%22https%3A//maxcdn.bootstrapcdn.com/font-awesome/4.6.3/css/font-awesome.min.css%22/%3E%0A%20%20%20%20%3Clink%20rel%3D%22stylesheet%22%20href%3D%22https%3A//cdnjs.cloudflare.com/ajax/libs/Leaflet.awesome-markers/2.0.2/leaflet.awesome-markers.css%22/%3E%0A%20%20%20%20%3Clink%20rel%3D%22stylesheet%22%20href%3D%22https%3A//cdn.jsdelivr.net/gh/python-visualization/folium/folium/templates/leaflet.awesome.rotate.min.css%22/%3E%0A%20%20%20%20%0A%20%20%20%20%20%20%20%20%20%20%20%20%3Cmeta%20name%3D%22viewport%22%20content%3D%22width%3Ddevice-width%2C%0A%20%20%20%20%20%20%20%20%20%20%20%20%20%20%20%20initial-scale%3D1.0%2C%20maximum-scale%3D1.0%2C%20user-scalable%3Dno%22%20/%3E%0A%20%20%20%20%20%20%20%20%20%20%20%20%3Cstyle%3E%0A%20%20%20%20%20%20%20%20%20%20%20%20%20%20%20%20%23map_ce218dccb594418fac4702d7ab9ab22c%20%7B%0A%20%20%20%20%20%20%20%20%20%20%20%20%20%20%20%20%20%20%20%20position%3A%20relative%3B%0A%20%20%20%20%20%20%20%20%20%20%20%20%20%20%20%20%20%20%20%20width%3A%20100.0%25%3B%0A%20%20%20%20%20%20%20%20%20%20%20%20%20%20%20%20%20%20%20%20height%3A%20100.0%25%3B%0A%20%20%20%20%20%20%20%20%20%20%20%20%20%20%20%20%20%20%20%20left%3A%200.0%25%3B%0A%20%20%20%20%20%20%20%20%20%20%20%20%20%20%20%20%20%20%20%20top%3A%200.0%25%3B%0A%20%20%20%20%20%20%20%20%20%20%20%20%20%20%20%20%7D%0A%20%20%20%20%20%20%20%20%20%20%20%20%3C/style%3E%0A%20%20%20%20%20%20%20%20%0A%3C/head%3E%0A%3Cbody%3E%20%20%20%20%0A%20%20%20%20%0A%20%20%20%20%20%20%20%20%20%20%20%20%3Cdiv%20class%3D%22folium-map%22%20id%3D%22map_ce218dccb594418fac4702d7ab9ab22c%22%20%3E%3C/div%3E%0A%20%20%20%20%20%20%20%20%0A%3C/body%3E%0A%3Cscript%3E%20%20%20%20%0A%20%20%20%20%0A%20%20%20%20%20%20%20%20%20%20%20%20var%20map_ce218dccb594418fac4702d7ab9ab22c%20%3D%20L.map%28%0A%20%20%20%20%20%20%20%20%20%20%20%20%20%20%20%20%22map_ce218dccb594418fac4702d7ab9ab22c%22%2C%0A%20%20%20%20%20%20%20%20%20%20%20%20%20%20%20%20%7B%0A%20%20%20%20%20%20%20%20%20%20%20%20%20%20%20%20%20%20%20%20center%3A%20%5B52.379189%2C%204.899431%5D%2C%0A%20%20%20%20%20%20%20%20%20%20%20%20%20%20%20%20%20%20%20%20crs%3A%20L.CRS.EPSG3857%2C%0A%20%20%20%20%20%20%20%20%20%20%20%20%20%20%20%20%20%20%20%20zoom%3A%2010%2C%0A%20%20%20%20%20%20%20%20%20%20%20%20%20%20%20%20%20%20%20%20zoomControl%3A%20true%2C%0A%20%20%20%20%20%20%20%20%20%20%20%20%20%20%20%20%20%20%20%20preferCanvas%3A%20false%2C%0A%20%20%20%20%20%20%20%20%20%20%20%20%20%20%20%20%7D%0A%20%20%20%20%20%20%20%20%20%20%20%20%29%3B%0A%0A%20%20%20%20%20%20%20%20%20%20%20%20%0A%0A%20%20%20%20%20%20%20%20%0A%20%20%20%20%0A%20%20%20%20%20%20%20%20%20%20%20%20var%20tile_layer_ffa01e49a81a44faaddb48bc6530c106%20%3D%20L.tileLayer%28%0A%20%20%20%20%20%20%20%20%20%20%20%20%20%20%20%20%22https%3A//stamen-tiles-%7Bs%7D.a.ssl.fastly.net/toner/%7Bz%7D/%7Bx%7D/%7By%7D.png%22%2C%0A%20%20%20%20%20%20%20%20%20%20%20%20%20%20%20%20%7B%22attribution%22%3A%20%22Map%20tiles%20by%20%5Cu003ca%20href%3D%5C%22http%3A//stamen.com%5C%22%5Cu003eStamen%20Design%5Cu003c/a%5Cu003e%2C%20under%20%5Cu003ca%20href%3D%5C%22http%3A//creativecommons.org/licenses/by/3.0%5C%22%5Cu003eCC%20BY%203.0%5Cu003c/a%5Cu003e.%20Data%20by%20%5Cu0026copy%3B%20%5Cu003ca%20href%3D%5C%22http%3A//openstreetmap.org%5C%22%5Cu003eOpenStreetMap%5Cu003c/a%5Cu003e%2C%20under%20%5Cu003ca%20href%3D%5C%22http%3A//www.openstreetmap.org/copyright%5C%22%5Cu003eODbL%5Cu003c/a%5Cu003e.%22%2C%20%22detectRetina%22%3A%20false%2C%20%22maxNativeZoom%22%3A%2018%2C%20%22maxZoom%22%3A%2018%2C%20%22minZoom%22%3A%200%2C%20%22noWrap%22%3A%20false%2C%20%22opacity%22%3A%201%2C%20%22subdomains%22%3A%20%22abc%22%2C%20%22tms%22%3A%20false%7D%0A%20%20%20%20%20%20%20%20%20%20%20%20%29.addTo%28map_ce218dccb594418fac4702d7ab9ab22c%29%3B%0A%20%20%20%20%20%20%20%20%0A%3C/script%3E onload=\"this.contentDocument.open();this.contentDocument.write(    decodeURIComponent(this.getAttribute('data-html')));this.contentDocument.close();\" allowfullscreen webkitallowfullscreen mozallowfullscreen></iframe></div></div>"
      ],
      "text/plain": [
       "<folium.folium.Map at 0x7fc01045d1f0>"
      ]
     },
     "execution_count": 5,
     "metadata": {},
     "output_type": "execute_result"
    }
   ],
   "source": [
    "g = Graphe()\n",
    "g.visualiserFolium()"
   ]
  },
  {
   "cell_type": "code",
   "execution_count": 70,
   "id": "3a138edb",
   "metadata": {},
   "outputs": [
    {
     "name": "stdout",
     "output_type": "stream",
     "text": [
      "['Mamadou', 'Mansour', 'Dame', 'Khady']\n",
      "['Mamadou', 'Mansour', 'Dame']\n"
     ]
    }
   ],
   "source": [
    "#Part 3(Mohamed Ndoye)\n",
    "class Pile:\n",
    "    #constructor to initialize our stack\n",
    "    def __init__(self) -> None:\n",
    "        self.elements = []\n",
    "\n",
    "    #insertion at the top of the stack\n",
    "    def push(self, noeud):\n",
    "        self.elements.append(noeud)\n",
    "\n",
    "    #will return true if a specified node is in the stack\n",
    "    def contains_noeud(self, name):\n",
    "        for i in self.elements:\n",
    "            return i == name\n",
    "\n",
    "    #will return true if the stack is empty\n",
    "    def empty(self):\n",
    "        return len(self.elements) > 0\n",
    "\n",
    "    #will delete and return the element at\n",
    "    # the very top of the stack\n",
    "    # will return an exception if the stack is empty\n",
    "    def remove(self):\n",
    "        if self.elements == []:\n",
    "            raise FileExistsError\n",
    "        return self.elements.pop()\n",
    "    \n",
    "p=Pile()\n",
    "p.push(\"Mamadou\")\n",
    "p.push(\"Mansour\")\n",
    "p.push(\"Dame\")\n",
    "p.push(\"Khady\")\n",
    "print(p.elements)\n",
    "p.remove() #the first element of the queue will be removed\n",
    "print(p.elements)"
   ]
  },
  {
   "cell_type": "code",
   "execution_count": 71,
   "id": "9116348b",
   "metadata": {},
   "outputs": [],
   "source": [
    "#Implementation of the Queue class by inheritance\n",
    "class File(Pile):\n",
    "    #constructor to initialize the queue\n",
    "    def __init__(self) -> None:\n",
    "        super().__init__()\n",
    "\n",
    "    #will remove the last element of the queue\n",
    "    def remove(self):\n",
    "        if self.elements == []:\n",
    "            raise FileExistsError\n",
    "        return self.elements.pop(0)\n",
    "\n"
   ]
  },
  {
   "cell_type": "code",
   "execution_count": 72,
   "id": "25a0e51e",
   "metadata": {},
   "outputs": [
    {
     "name": "stdout",
     "output_type": "stream",
     "text": [
      "['Mamadou', 'Mansour', 'Dame', 'Khady']\n",
      "['Mansour', 'Dame', 'Khady']\n"
     ]
    }
   ],
   "source": [
    "p=File()\n",
    "p.push(\"Mamadou\")\n",
    "p.push(\"Mansour\")\n",
    "p.push(\"Dame\")\n",
    "p.push(\"Khady\")\n",
    "print(p.elements)\n",
    "p.remove() #the first element of the queue will be removed\n",
    "print(p.elements)"
   ]
  },
  {
   "cell_type": "code",
   "execution_count": null,
   "id": "b108de44",
   "metadata": {},
   "outputs": [],
   "source": []
  }
 ],
 "metadata": {
  "kernelspec": {
   "display_name": "Python 3 (ipykernel)",
   "language": "python",
   "name": "python3"
  },
  "language_info": {
   "codemirror_mode": {
    "name": "ipython",
    "version": 3
   },
   "file_extension": ".py",
   "mimetype": "text/x-python",
   "name": "python",
   "nbconvert_exporter": "python",
   "pygments_lexer": "ipython3",
   "version": "3.8.10"
  }
 },
 "nbformat": 4,
 "nbformat_minor": 5
}
